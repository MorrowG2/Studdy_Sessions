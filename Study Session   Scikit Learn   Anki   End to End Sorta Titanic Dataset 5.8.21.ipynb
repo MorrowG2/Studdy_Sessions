{
  "nbformat": 4,
  "nbformat_minor": 0,
  "metadata": {
    "colab": {
      "name": "practice_stuff.ipynb",
      "provenance": [],
      "collapsed_sections": []
    },
    "kernelspec": {
      "name": "python3",
      "display_name": "Python 3"
    },
    "language_info": {
      "name": "python"
    }
  },
  "cells": [
    {
      "cell_type": "markdown",
      "metadata": {
        "id": "cpPBxsgFiVY9"
      },
      "source": [
        "# First Principles Thinking\n",
        "\n",
        "* Step 1: Identify any assumptions that you may have (batteries are $600/KwH - they're too expensive)\n",
        "* Step 2: Breakdown the issues (the fundamentals - what materials go into a battery? Can I find them for cheap?)\n",
        "* Step 3: Create new solutions (use your fundamental analysis and knowledge to create a solution)\n",
        "\n",
        "https://www.youtube.com/watch?v=NV3sBlRgzTI"
      ]
    },
    {
      "cell_type": "markdown",
      "metadata": {
        "id": "mbElq6ieBAVY"
      },
      "source": [
        "```\n",
        "bins=[0, 13, 19, 61, sys.maxsize]\n",
        "labels=['<12', 'Teen', 'Adult', 'Older']\n",
        "(\n",
        "  pd.read_csv('data/train.csv')\n",
        "    .pipe(replace_age_na, pclass_age_map)\n",
        "    .query('Embarked == \"S\"')\n",
        "    .assign(ageGroup = lambda df: pd.cut(df['Age'], bins=bins, labels=labels))\n",
        "    .pivot_table(\n",
        "        values='Survived', \n",
        "        columns='Pclass', \n",
        "        index='ageGroup', \n",
        "        aggfunc='mean')\n",
        "    .rename_axis('', axis='columns')\n",
        "    .rename('Class {}'.format, axis='columns')\n",
        "    .style.format('{:.2%}')\n",
        ")\n",
        "\n",
        "```\n",
        "\n"
      ]
    },
    {
      "cell_type": "code",
      "metadata": {
        "colab": {
          "base_uri": "https://localhost:8080/"
        },
        "id": "bzF2uTou_oer",
        "outputId": "cf1c538a-4423-421c-de57-06d871e7e6d1"
      },
      "source": [
        "from google.colab import drive\n",
        "drive.mount('/content/drive')"
      ],
      "execution_count": 46,
      "outputs": [
        {
          "output_type": "stream",
          "text": [
            "Drive already mounted at /content/drive; to attempt to forcibly remount, call drive.mount(\"/content/drive\", force_remount=True).\n"
          ],
          "name": "stdout"
        }
      ]
    },
    {
      "cell_type": "code",
      "metadata": {
        "colab": {
          "base_uri": "https://localhost:8080/"
        },
        "id": "jujCWXTSEG3q",
        "outputId": "f4a85740-d0eb-435f-fa46-fa65dbadce4f"
      },
      "source": [
        "%cd '/content/drive/My Drive/Kaggle'"
      ],
      "execution_count": 47,
      "outputs": [
        {
          "output_type": "stream",
          "text": [
            "/content/drive/My Drive/Kaggle\n"
          ],
          "name": "stdout"
        }
      ]
    },
    {
      "cell_type": "code",
      "metadata": {
        "colab": {
          "base_uri": "https://localhost:8080/",
          "height": 492
        },
        "id": "seRBsF-O_-wx",
        "outputId": "4c2616b9-7096-4f6f-a652-1eeba287f228"
      },
      "source": [
        "import pandas as pd\n",
        "import matplotlib.pyplot as plt\n",
        "\n",
        "from sklearn.ensemble import RandomForestClassifier\n",
        "from sklearn.model_selection import train_test_split\n",
        "\n",
        "df = pd.read_csv('titanic_train.csv')\n",
        "df.head()"
      ],
      "execution_count": 48,
      "outputs": [
        {
          "output_type": "execute_result",
          "data": {
            "text/html": [
              "<div>\n",
              "<style scoped>\n",
              "    .dataframe tbody tr th:only-of-type {\n",
              "        vertical-align: middle;\n",
              "    }\n",
              "\n",
              "    .dataframe tbody tr th {\n",
              "        vertical-align: top;\n",
              "    }\n",
              "\n",
              "    .dataframe thead th {\n",
              "        text-align: right;\n",
              "    }\n",
              "</style>\n",
              "<table border=\"1\" class=\"dataframe\">\n",
              "  <thead>\n",
              "    <tr style=\"text-align: right;\">\n",
              "      <th></th>\n",
              "      <th>passenger_id</th>\n",
              "      <th>pclass</th>\n",
              "      <th>name</th>\n",
              "      <th>sex</th>\n",
              "      <th>age</th>\n",
              "      <th>sibsp</th>\n",
              "      <th>parch</th>\n",
              "      <th>ticket</th>\n",
              "      <th>fare</th>\n",
              "      <th>cabin</th>\n",
              "      <th>embarked</th>\n",
              "      <th>boat</th>\n",
              "      <th>body</th>\n",
              "      <th>home.dest</th>\n",
              "      <th>survived</th>\n",
              "    </tr>\n",
              "  </thead>\n",
              "  <tbody>\n",
              "    <tr>\n",
              "      <th>0</th>\n",
              "      <td>1216</td>\n",
              "      <td>3</td>\n",
              "      <td>Smyth, Miss. Julia</td>\n",
              "      <td>female</td>\n",
              "      <td>NaN</td>\n",
              "      <td>0</td>\n",
              "      <td>0</td>\n",
              "      <td>335432</td>\n",
              "      <td>7.7333</td>\n",
              "      <td>NaN</td>\n",
              "      <td>Q</td>\n",
              "      <td>13</td>\n",
              "      <td>NaN</td>\n",
              "      <td>NaN</td>\n",
              "      <td>1</td>\n",
              "    </tr>\n",
              "    <tr>\n",
              "      <th>1</th>\n",
              "      <td>699</td>\n",
              "      <td>3</td>\n",
              "      <td>Cacic, Mr. Luka</td>\n",
              "      <td>male</td>\n",
              "      <td>38.0</td>\n",
              "      <td>0</td>\n",
              "      <td>0</td>\n",
              "      <td>315089</td>\n",
              "      <td>8.6625</td>\n",
              "      <td>NaN</td>\n",
              "      <td>S</td>\n",
              "      <td>NaN</td>\n",
              "      <td>NaN</td>\n",
              "      <td>Croatia</td>\n",
              "      <td>0</td>\n",
              "    </tr>\n",
              "    <tr>\n",
              "      <th>2</th>\n",
              "      <td>1267</td>\n",
              "      <td>3</td>\n",
              "      <td>Van Impe, Mrs. Jean Baptiste (Rosalie Paula Go...</td>\n",
              "      <td>female</td>\n",
              "      <td>30.0</td>\n",
              "      <td>1</td>\n",
              "      <td>1</td>\n",
              "      <td>345773</td>\n",
              "      <td>24.1500</td>\n",
              "      <td>NaN</td>\n",
              "      <td>S</td>\n",
              "      <td>NaN</td>\n",
              "      <td>NaN</td>\n",
              "      <td>NaN</td>\n",
              "      <td>0</td>\n",
              "    </tr>\n",
              "    <tr>\n",
              "      <th>3</th>\n",
              "      <td>449</td>\n",
              "      <td>2</td>\n",
              "      <td>Hocking, Mrs. Elizabeth (Eliza Needs)</td>\n",
              "      <td>female</td>\n",
              "      <td>54.0</td>\n",
              "      <td>1</td>\n",
              "      <td>3</td>\n",
              "      <td>29105</td>\n",
              "      <td>23.0000</td>\n",
              "      <td>NaN</td>\n",
              "      <td>S</td>\n",
              "      <td>4</td>\n",
              "      <td>NaN</td>\n",
              "      <td>Cornwall / Akron, OH</td>\n",
              "      <td>1</td>\n",
              "    </tr>\n",
              "    <tr>\n",
              "      <th>4</th>\n",
              "      <td>576</td>\n",
              "      <td>2</td>\n",
              "      <td>Veal, Mr. James</td>\n",
              "      <td>male</td>\n",
              "      <td>40.0</td>\n",
              "      <td>0</td>\n",
              "      <td>0</td>\n",
              "      <td>28221</td>\n",
              "      <td>13.0000</td>\n",
              "      <td>NaN</td>\n",
              "      <td>S</td>\n",
              "      <td>NaN</td>\n",
              "      <td>NaN</td>\n",
              "      <td>Barre, Co Washington, VT</td>\n",
              "      <td>0</td>\n",
              "    </tr>\n",
              "  </tbody>\n",
              "</table>\n",
              "</div>"
            ],
            "text/plain": [
              "   passenger_id  pclass  ...                 home.dest survived\n",
              "0          1216       3  ...                       NaN        1\n",
              "1           699       3  ...                   Croatia        0\n",
              "2          1267       3  ...                       NaN        0\n",
              "3           449       2  ...      Cornwall / Akron, OH        1\n",
              "4           576       2  ...  Barre, Co Washington, VT        0\n",
              "\n",
              "[5 rows x 15 columns]"
            ]
          },
          "metadata": {
            "tags": []
          },
          "execution_count": 48
        }
      ]
    },
    {
      "cell_type": "code",
      "metadata": {
        "colab": {
          "base_uri": "https://localhost:8080/"
        },
        "id": "Q8evyryhp_3f",
        "outputId": "00e84fe4-109d-4b11-aa3e-c25d4cff981f"
      },
      "source": [
        "df.dtypes"
      ],
      "execution_count": 49,
      "outputs": [
        {
          "output_type": "execute_result",
          "data": {
            "text/plain": [
              "passenger_id      int64\n",
              "pclass            int64\n",
              "name             object\n",
              "sex              object\n",
              "age             float64\n",
              "sibsp             int64\n",
              "parch             int64\n",
              "ticket           object\n",
              "fare            float64\n",
              "cabin            object\n",
              "embarked         object\n",
              "boat             object\n",
              "body            float64\n",
              "home.dest        object\n",
              "survived          int64\n",
              "dtype: object"
            ]
          },
          "metadata": {
            "tags": []
          },
          "execution_count": 49
        }
      ]
    },
    {
      "cell_type": "code",
      "metadata": {
        "colab": {
          "base_uri": "https://localhost:8080/"
        },
        "id": "2Eq2kr7rp_0q",
        "outputId": "83b5e335-fdd3-4171-ac72-924dcd18b3f1"
      },
      "source": [
        "df.drop(['passenger_id','name','ticket','cabin','boat','body','home.dest'], \n",
        "        axis=1,\n",
        "        inplace=True)\n",
        "\n",
        "df.isna().sum()"
      ],
      "execution_count": 50,
      "outputs": [
        {
          "output_type": "execute_result",
          "data": {
            "text/plain": [
              "pclass        0\n",
              "sex           0\n",
              "age         174\n",
              "sibsp         0\n",
              "parch         0\n",
              "fare          1\n",
              "embarked      1\n",
              "survived      0\n",
              "dtype: int64"
            ]
          },
          "metadata": {
            "tags": []
          },
          "execution_count": 50
        }
      ]
    },
    {
      "cell_type": "code",
      "metadata": {
        "colab": {
          "base_uri": "https://localhost:8080/"
        },
        "id": "W1j5rN8fp_iv",
        "outputId": "c27e6b04-037d-41f1-d914-24882c2cc0f4"
      },
      "source": [
        "df.dtypes"
      ],
      "execution_count": 51,
      "outputs": [
        {
          "output_type": "execute_result",
          "data": {
            "text/plain": [
              "pclass        int64\n",
              "sex          object\n",
              "age         float64\n",
              "sibsp         int64\n",
              "parch         int64\n",
              "fare        float64\n",
              "embarked     object\n",
              "survived      int64\n",
              "dtype: object"
            ]
          },
          "metadata": {
            "tags": []
          },
          "execution_count": 51
        }
      ]
    },
    {
      "cell_type": "code",
      "metadata": {
        "colab": {
          "base_uri": "https://localhost:8080/"
        },
        "id": "NjXI8Nmgp_gP",
        "outputId": "aa2a6f1b-da3e-4fa7-80e1-a9c688a6ec4a"
      },
      "source": [
        "df.age.fillna(value=df.age.mean(), axis=0, inplace=True)\n",
        "df.isna().sum()"
      ],
      "execution_count": 52,
      "outputs": [
        {
          "output_type": "execute_result",
          "data": {
            "text/plain": [
              "pclass      0\n",
              "sex         0\n",
              "age         0\n",
              "sibsp       0\n",
              "parch       0\n",
              "fare        1\n",
              "embarked    1\n",
              "survived    0\n",
              "dtype: int64"
            ]
          },
          "metadata": {
            "tags": []
          },
          "execution_count": 52
        }
      ]
    },
    {
      "cell_type": "code",
      "metadata": {
        "colab": {
          "base_uri": "https://localhost:8080/",
          "height": 391
        },
        "id": "0UiULJ9cp_ct",
        "outputId": "2069279f-f3ab-4d25-854e-0ea607f437a2"
      },
      "source": [
        "import matplotlib.pyplot as plt\n",
        "df.fare.plot.hist(figsize=(10,6))"
      ],
      "execution_count": 53,
      "outputs": [
        {
          "output_type": "execute_result",
          "data": {
            "text/plain": [
              "<matplotlib.axes._subplots.AxesSubplot at 0x7f0935a0d990>"
            ]
          },
          "metadata": {
            "tags": []
          },
          "execution_count": 53
        },
        {
          "output_type": "display_data",
          "data": {
            "image/png": "[encoded data removed]",
            "text/plain": [
              "<Figure size 720x432 with 1 Axes>"
            ]
          },
          "metadata": {
            "tags": [],
            "needs_background": "light"
          }
        }
      ]
    },
    {
      "cell_type": "code",
      "metadata": {
        "id": "qHRb7qqLp_aB"
      },
      "source": [
        "df.fare = df.fare.dropna(axis=0)\n",
        "df.embarked = df.embarked.dropna(axis=0)"
      ],
      "execution_count": 54,
      "outputs": []
    },
    {
      "cell_type": "code",
      "metadata": {
        "colab": {
          "base_uri": "https://localhost:8080/"
        },
        "id": "kNPidDs5sMJl",
        "outputId": "0bdc2b00-c1df-456e-ddf8-b3bc1265db05"
      },
      "source": [
        "df.isna().sum(), len(df)"
      ],
      "execution_count": 55,
      "outputs": [
        {
          "output_type": "execute_result",
          "data": {
            "text/plain": [
              "(pclass      0\n",
              " sex         0\n",
              " age         0\n",
              " sibsp       0\n",
              " parch       0\n",
              " fare        1\n",
              " embarked    1\n",
              " survived    0\n",
              " dtype: int64, 850)"
            ]
          },
          "metadata": {
            "tags": []
          },
          "execution_count": 55
        }
      ]
    },
    {
      "cell_type": "code",
      "metadata": {
        "colab": {
          "base_uri": "https://localhost:8080/",
          "height": 78
        },
        "id": "MwRdLhKgsPjs",
        "outputId": "12fd8c2c-b980-4880-a0f6-0f771605faf5"
      },
      "source": [
        "df.loc[df.embarked.isna()]"
      ],
      "execution_count": 56,
      "outputs": [
        {
          "output_type": "execute_result",
          "data": {
            "text/html": [
              "<div>\n",
              "<style scoped>\n",
              "    .dataframe tbody tr th:only-of-type {\n",
              "        vertical-align: middle;\n",
              "    }\n",
              "\n",
              "    .dataframe tbody tr th {\n",
              "        vertical-align: top;\n",
              "    }\n",
              "\n",
              "    .dataframe thead th {\n",
              "        text-align: right;\n",
              "    }\n",
              "</style>\n",
              "<table border=\"1\" class=\"dataframe\">\n",
              "  <thead>\n",
              "    <tr style=\"text-align: right;\">\n",
              "      <th></th>\n",
              "      <th>pclass</th>\n",
              "      <th>sex</th>\n",
              "      <th>age</th>\n",
              "      <th>sibsp</th>\n",
              "      <th>parch</th>\n",
              "      <th>fare</th>\n",
              "      <th>embarked</th>\n",
              "      <th>survived</th>\n",
              "    </tr>\n",
              "  </thead>\n",
              "  <tbody>\n",
              "    <tr>\n",
              "      <th>109</th>\n",
              "      <td>1</td>\n",
              "      <td>female</td>\n",
              "      <td>38.0</td>\n",
              "      <td>0</td>\n",
              "      <td>0</td>\n",
              "      <td>80.0</td>\n",
              "      <td>NaN</td>\n",
              "      <td>1</td>\n",
              "    </tr>\n",
              "  </tbody>\n",
              "</table>\n",
              "</div>"
            ],
            "text/plain": [
              "     pclass     sex   age  sibsp  parch  fare embarked  survived\n",
              "109       1  female  38.0      0      0  80.0      NaN         1"
            ]
          },
          "metadata": {
            "tags": []
          },
          "execution_count": 56
        }
      ]
    },
    {
      "cell_type": "code",
      "metadata": {
        "colab": {
          "base_uri": "https://localhost:8080/"
        },
        "id": "jh1V8ZhwsPhD",
        "outputId": "e649244d-26bd-41de-e637-1d2ae7a5e758"
      },
      "source": [
        "df.embarked.fillna(value='S', axis=0, inplace=True)\n",
        "df.fare.fillna(value=df.fare.mean(),axis=0,inplace=True)\n",
        "df.isna().sum()"
      ],
      "execution_count": 57,
      "outputs": [
        {
          "output_type": "execute_result",
          "data": {
            "text/plain": [
              "pclass      0\n",
              "sex         0\n",
              "age         0\n",
              "sibsp       0\n",
              "parch       0\n",
              "fare        0\n",
              "embarked    0\n",
              "survived    0\n",
              "dtype: int64"
            ]
          },
          "metadata": {
            "tags": []
          },
          "execution_count": 57
        }
      ]
    },
    {
      "cell_type": "code",
      "metadata": {
        "colab": {
          "base_uri": "https://localhost:8080/"
        },
        "id": "WXmzBb8nsPd9",
        "outputId": "e598063c-1118-45eb-d328-61bc3a370ff1"
      },
      "source": [
        "len(df)"
      ],
      "execution_count": 58,
      "outputs": [
        {
          "output_type": "execute_result",
          "data": {
            "text/plain": [
              "850"
            ]
          },
          "metadata": {
            "tags": []
          },
          "execution_count": 58
        }
      ]
    },
    {
      "cell_type": "code",
      "metadata": {
        "colab": {
          "base_uri": "https://localhost:8080/"
        },
        "id": "FjSKD42NsPa2",
        "outputId": "8543f16f-045d-492d-ae5a-1058dc9894e9"
      },
      "source": [
        "df.dtypes"
      ],
      "execution_count": 59,
      "outputs": [
        {
          "output_type": "execute_result",
          "data": {
            "text/plain": [
              "pclass        int64\n",
              "sex          object\n",
              "age         float64\n",
              "sibsp         int64\n",
              "parch         int64\n",
              "fare        float64\n",
              "embarked     object\n",
              "survived      int64\n",
              "dtype: object"
            ]
          },
          "metadata": {
            "tags": []
          },
          "execution_count": 59
        }
      ]
    },
    {
      "cell_type": "code",
      "metadata": {
        "colab": {
          "base_uri": "https://localhost:8080/"
        },
        "id": "Fww6clqqsuoR",
        "outputId": "1d9c09f8-b4d9-4007-d0ab-d682f1d67cbd"
      },
      "source": [
        "df_1 = pd.get_dummies(df,columns=['sex','embarked'])\n",
        "df_1.dtypes"
      ],
      "execution_count": 60,
      "outputs": [
        {
          "output_type": "execute_result",
          "data": {
            "text/plain": [
              "pclass          int64\n",
              "age           float64\n",
              "sibsp           int64\n",
              "parch           int64\n",
              "fare          float64\n",
              "survived        int64\n",
              "sex_female      uint8\n",
              "sex_male        uint8\n",
              "embarked_C      uint8\n",
              "embarked_Q      uint8\n",
              "embarked_S      uint8\n",
              "dtype: object"
            ]
          },
          "metadata": {
            "tags": []
          },
          "execution_count": 60
        }
      ]
    },
    {
      "cell_type": "code",
      "metadata": {
        "colab": {
          "base_uri": "https://localhost:8080/",
          "height": 198
        },
        "id": "MoGekvzTtBtF",
        "outputId": "477185d8-3808-499c-ff7d-6b56a95aba10"
      },
      "source": [
        "df_1.head()"
      ],
      "execution_count": 61,
      "outputs": [
        {
          "output_type": "execute_result",
          "data": {
            "text/html": [
              "<div>\n",
              "<style scoped>\n",
              "    .dataframe tbody tr th:only-of-type {\n",
              "        vertical-align: middle;\n",
              "    }\n",
              "\n",
              "    .dataframe tbody tr th {\n",
              "        vertical-align: top;\n",
              "    }\n",
              "\n",
              "    .dataframe thead th {\n",
              "        text-align: right;\n",
              "    }\n",
              "</style>\n",
              "<table border=\"1\" class=\"dataframe\">\n",
              "  <thead>\n",
              "    <tr style=\"text-align: right;\">\n",
              "      <th></th>\n",
              "      <th>pclass</th>\n",
              "      <th>age</th>\n",
              "      <th>sibsp</th>\n",
              "      <th>parch</th>\n",
              "      <th>fare</th>\n",
              "      <th>survived</th>\n",
              "      <th>sex_female</th>\n",
              "      <th>sex_male</th>\n",
              "      <th>embarked_C</th>\n",
              "      <th>embarked_Q</th>\n",
              "      <th>embarked_S</th>\n",
              "    </tr>\n",
              "  </thead>\n",
              "  <tbody>\n",
              "    <tr>\n",
              "      <th>0</th>\n",
              "      <td>3</td>\n",
              "      <td>29.519847</td>\n",
              "      <td>0</td>\n",
              "      <td>0</td>\n",
              "      <td>7.7333</td>\n",
              "      <td>1</td>\n",
              "      <td>1</td>\n",
              "      <td>0</td>\n",
              "      <td>0</td>\n",
              "      <td>1</td>\n",
              "      <td>0</td>\n",
              "    </tr>\n",
              "    <tr>\n",
              "      <th>1</th>\n",
              "      <td>3</td>\n",
              "      <td>38.000000</td>\n",
              "      <td>0</td>\n",
              "      <td>0</td>\n",
              "      <td>8.6625</td>\n",
              "      <td>0</td>\n",
              "      <td>0</td>\n",
              "      <td>1</td>\n",
              "      <td>0</td>\n",
              "      <td>0</td>\n",
              "      <td>1</td>\n",
              "    </tr>\n",
              "    <tr>\n",
              "      <th>2</th>\n",
              "      <td>3</td>\n",
              "      <td>30.000000</td>\n",
              "      <td>1</td>\n",
              "      <td>1</td>\n",
              "      <td>24.1500</td>\n",
              "      <td>0</td>\n",
              "      <td>1</td>\n",
              "      <td>0</td>\n",
              "      <td>0</td>\n",
              "      <td>0</td>\n",
              "      <td>1</td>\n",
              "    </tr>\n",
              "    <tr>\n",
              "      <th>3</th>\n",
              "      <td>2</td>\n",
              "      <td>54.000000</td>\n",
              "      <td>1</td>\n",
              "      <td>3</td>\n",
              "      <td>23.0000</td>\n",
              "      <td>1</td>\n",
              "      <td>1</td>\n",
              "      <td>0</td>\n",
              "      <td>0</td>\n",
              "      <td>0</td>\n",
              "      <td>1</td>\n",
              "    </tr>\n",
              "    <tr>\n",
              "      <th>4</th>\n",
              "      <td>2</td>\n",
              "      <td>40.000000</td>\n",
              "      <td>0</td>\n",
              "      <td>0</td>\n",
              "      <td>13.0000</td>\n",
              "      <td>0</td>\n",
              "      <td>0</td>\n",
              "      <td>1</td>\n",
              "      <td>0</td>\n",
              "      <td>0</td>\n",
              "      <td>1</td>\n",
              "    </tr>\n",
              "  </tbody>\n",
              "</table>\n",
              "</div>"
            ],
            "text/plain": [
              "   pclass        age  sibsp  ...  embarked_C  embarked_Q  embarked_S\n",
              "0       3  29.519847      0  ...           0           1           0\n",
              "1       3  38.000000      0  ...           0           0           1\n",
              "2       3  30.000000      1  ...           0           0           1\n",
              "3       2  54.000000      1  ...           0           0           1\n",
              "4       2  40.000000      0  ...           0           0           1\n",
              "\n",
              "[5 rows x 11 columns]"
            ]
          },
          "metadata": {
            "tags": []
          },
          "execution_count": 61
        }
      ]
    },
    {
      "cell_type": "code",
      "metadata": {
        "id": "x3GcQuk5BrAX"
      },
      "source": [
        "# EDA Exploratory Data Analysis\n",
        "import pandas as pd\n",
        "import numpy as np\n",
        "import seaborn as sns\n",
        "\n",
        "# Preprocessing \n",
        "from sklearn.preprocessing import OneHotEncoder\n",
        "from sklearn.pipeline import Pipeline\n",
        "from sklearn.impute import SimpleImputer\n",
        "from sklearn.compose import ColumnTransformer\n",
        "\n",
        "# Model\n",
        "from sklearn.ensemble import RandomForestClassifier"
      ],
      "execution_count": 62,
      "outputs": []
    },
    {
      "cell_type": "code",
      "metadata": {
        "colab": {
          "base_uri": "https://localhost:8080/"
        },
        "id": "ewEGAKxqvs5F",
        "outputId": "d62eb681-b6c2-461b-ee38-ac4b5a1273e8"
      },
      "source": [
        "df_1.dtypes"
      ],
      "execution_count": 63,
      "outputs": [
        {
          "output_type": "execute_result",
          "data": {
            "text/plain": [
              "pclass          int64\n",
              "age           float64\n",
              "sibsp           int64\n",
              "parch           int64\n",
              "fare          float64\n",
              "survived        int64\n",
              "sex_female      uint8\n",
              "sex_male        uint8\n",
              "embarked_C      uint8\n",
              "embarked_Q      uint8\n",
              "embarked_S      uint8\n",
              "dtype: object"
            ]
          },
          "metadata": {
            "tags": []
          },
          "execution_count": 63
        }
      ]
    },
    {
      "cell_type": "code",
      "metadata": {
        "id": "p-I_SnxGvwhz"
      },
      "source": [
        "# Split the data\n",
        "# np.random.seed(42)\n",
        "\n",
        "X = df_1.drop('survived', axis=1)\n",
        "y = df_1.survived\n",
        "\n",
        "X_train, X_test, y_train, y_test = train_test_split(X, \n",
        "                                                    y, \n",
        "                                                    test_size=0.2, \n",
        "                                                    random_state=42)\n",
        "\n",
        "clf = RandomForestClassifier()\n",
        "clf.fit(X_train,y_train)\n",
        "y_pred = clf.predict(X_test)\n",
        "y_prob = clf.predict_proba(X_test)\n",
        "\n",
        "\n",
        "# from sklearn.metrics import accuracy_score, classification_report, roc_auc_score, roc_curve\n",
        "# accuracy_score(y_test, y_pred)\n",
        "# classification_report(y_test,y_pred)\n",
        "# roc_auc_score(y_test,y_pred)\n",
        "# false_positive_rate, true_positive_rate, thresholds = roc_curve(y_test,y_pred)\n",
        "\n",
        "from sklearn.model_selection import cross_val_score, RandomizedSearchCV, GridSearchCV, train_test_split"
      ],
      "execution_count": 64,
      "outputs": []
    },
    {
      "cell_type": "code",
      "metadata": {
        "colab": {
          "base_uri": "https://localhost:8080/"
        },
        "id": "E73kfHLtxSq1",
        "outputId": "725e7b96-e2b9-4cee-816a-01e65a4d4737"
      },
      "source": [
        "clf.get_params()"
      ],
      "execution_count": 65,
      "outputs": [
        {
          "output_type": "execute_result",
          "data": {
            "text/plain": [
              "{'bootstrap': True,\n",
              " 'ccp_alpha': 0.0,\n",
              " 'class_weight': None,\n",
              " 'criterion': 'gini',\n",
              " 'max_depth': None,\n",
              " 'max_features': 'auto',\n",
              " 'max_leaf_nodes': None,\n",
              " 'max_samples': None,\n",
              " 'min_impurity_decrease': 0.0,\n",
              " 'min_impurity_split': None,\n",
              " 'min_samples_leaf': 1,\n",
              " 'min_samples_split': 2,\n",
              " 'min_weight_fraction_leaf': 0.0,\n",
              " 'n_estimators': 100,\n",
              " 'n_jobs': None,\n",
              " 'oob_score': False,\n",
              " 'random_state': None,\n",
              " 'verbose': 0,\n",
              " 'warm_start': False}"
            ]
          },
          "metadata": {
            "tags": []
          },
          "execution_count": 65
        }
      ]
    },
    {
      "cell_type": "code",
      "metadata": {
        "colab": {
          "base_uri": "https://localhost:8080/"
        },
        "id": "oYyGTI1nxeJ8",
        "outputId": "76a66ba1-31ee-4e3b-8ad8-19792c8661c5"
      },
      "source": [
        "clf.get_params().keys()"
      ],
      "execution_count": 66,
      "outputs": [
        {
          "output_type": "execute_result",
          "data": {
            "text/plain": [
              "dict_keys(['bootstrap', 'ccp_alpha', 'class_weight', 'criterion', 'max_depth', 'max_features', 'max_leaf_nodes', 'max_samples', 'min_impurity_decrease', 'min_impurity_split', 'min_samples_leaf', 'min_samples_split', 'min_weight_fraction_leaf', 'n_estimators', 'n_jobs', 'oob_score', 'random_state', 'verbose', 'warm_start'])"
            ]
          },
          "metadata": {
            "tags": []
          },
          "execution_count": 66
        }
      ]
    },
    {
      "cell_type": "code",
      "metadata": {
        "colab": {
          "base_uri": "https://localhost:8080/"
        },
        "id": "etd-hs7dxg-U",
        "outputId": "c548aac5-7755-4e3f-903b-0b0f6f87b35f"
      },
      "source": [
        "df_1.columns"
      ],
      "execution_count": 67,
      "outputs": [
        {
          "output_type": "execute_result",
          "data": {
            "text/plain": [
              "Index(['pclass', 'age', 'sibsp', 'parch', 'fare', 'survived', 'sex_female',\n",
              "       'sex_male', 'embarked_C', 'embarked_Q', 'embarked_S'],\n",
              "      dtype='object')"
            ]
          },
          "metadata": {
            "tags": []
          },
          "execution_count": 67
        }
      ]
    },
    {
      "cell_type": "code",
      "metadata": {
        "colab": {
          "base_uri": "https://localhost:8080/"
        },
        "id": "UBAso0rTxt0G",
        "outputId": "5025eb77-2835-4cd6-c0c9-e55aec301cc9"
      },
      "source": [
        "# RandomizeSearchCV\n",
        "\n",
        "rs_grid = {\n",
        "    'n_estimators': range(0,1000,100),\n",
        "    'max_depth': [None,5,10],\n",
        "    'min_samples_leaf': [1,2,3,4],\n",
        "    'min_samples_split': [5,56,7]\n",
        "}\n",
        "\n",
        "rf_rscv = RandomizedSearchCV(estimator=clf,\n",
        "                             param_distributions=rs_grid,\n",
        "                             cv=5, n_iter=10, verbose=2)\n",
        "\n",
        "rf_rscv"
      ],
      "execution_count": 72,
      "outputs": [
        {
          "output_type": "execute_result",
          "data": {
            "text/plain": [
              "RandomizedSearchCV(cv=5, error_score=nan,\n",
              "                   estimator=RandomForestClassifier(bootstrap=True,\n",
              "                                                    ccp_alpha=0.0,\n",
              "                                                    class_weight=None,\n",
              "                                                    criterion='gini',\n",
              "                                                    max_depth=None,\n",
              "                                                    max_features='auto',\n",
              "                                                    max_leaf_nodes=None,\n",
              "                                                    max_samples=None,\n",
              "                                                    min_impurity_decrease=0.0,\n",
              "                                                    min_impurity_split=None,\n",
              "                                                    min_samples_leaf=1,\n",
              "                                                    min_samples_split=2,\n",
              "                                                    min_weight_fraction_leaf=0.0,\n",
              "                                                    n_estimators=100,\n",
              "                                                    n_jobs=None,\n",
              "                                                    oob_score=False,\n",
              "                                                    random_state=None,\n",
              "                                                    verbose=0,\n",
              "                                                    warm_start=False),\n",
              "                   iid='deprecated', n_iter=10, n_jobs=None,\n",
              "                   param_distributions={'max_depth': [None, 5, 10],\n",
              "                                        'min_samples_leaf': [1, 2, 3, 4],\n",
              "                                        'min_samples_split': [5, 56, 7],\n",
              "                                        'n_estimators': range(0, 1000, 100)},\n",
              "                   pre_dispatch='2*n_jobs', random_state=None, refit=True,\n",
              "                   return_train_score=False, scoring=None, verbose=2)"
            ]
          },
          "metadata": {
            "tags": []
          },
          "execution_count": 72
        }
      ]
    },
    {
      "cell_type": "code",
      "metadata": {
        "colab": {
          "base_uri": "https://localhost:8080/"
        },
        "id": "BgTOkXenyfEJ",
        "outputId": "d7329394-581c-4387-dae7-6e016a7df3e4"
      },
      "source": [
        "rf_rscv.fit(X_train,y_train)\n",
        "rf_rscv.best_params_"
      ],
      "execution_count": 73,
      "outputs": [
        {
          "output_type": "stream",
          "text": [
            "Fitting 5 folds for each of 10 candidates, totalling 50 fits\n",
            "[CV] n_estimators=100, min_samples_split=5, min_samples_leaf=3, max_depth=10 \n",
            "[CV]  n_estimators=100, min_samples_split=5, min_samples_leaf=3, max_depth=10, total=   0.2s\n",
            "[CV] n_estimators=100, min_samples_split=5, min_samples_leaf=3, max_depth=10 \n"
          ],
          "name": "stdout"
        },
        {
          "output_type": "stream",
          "text": [
            "[Parallel(n_jobs=1)]: Using backend SequentialBackend with 1 concurrent workers.\n",
            "[Parallel(n_jobs=1)]: Done   1 out of   1 | elapsed:    0.2s remaining:    0.0s\n"
          ],
          "name": "stderr"
        },
        {
          "output_type": "stream",
          "text": [
            "[CV]  n_estimators=100, min_samples_split=5, min_samples_leaf=3, max_depth=10, total=   0.2s\n",
            "[CV] n_estimators=100, min_samples_split=5, min_samples_leaf=3, max_depth=10 \n",
            "[CV]  n_estimators=100, min_samples_split=5, min_samples_leaf=3, max_depth=10, total=   0.2s\n",
            "[CV] n_estimators=100, min_samples_split=5, min_samples_leaf=3, max_depth=10 \n",
            "[CV]  n_estimators=100, min_samples_split=5, min_samples_leaf=3, max_depth=10, total=   0.2s\n",
            "[CV] n_estimators=100, min_samples_split=5, min_samples_leaf=3, max_depth=10 \n",
            "[CV]  n_estimators=100, min_samples_split=5, min_samples_leaf=3, max_depth=10, total=   0.2s\n",
            "[CV] n_estimators=300, min_samples_split=7, min_samples_leaf=2, max_depth=10 \n",
            "[CV]  n_estimators=300, min_samples_split=7, min_samples_leaf=2, max_depth=10, total=   0.5s\n",
            "[CV] n_estimators=300, min_samples_split=7, min_samples_leaf=2, max_depth=10 \n",
            "[CV]  n_estimators=300, min_samples_split=7, min_samples_leaf=2, max_depth=10, total=   0.5s\n",
            "[CV] n_estimators=300, min_samples_split=7, min_samples_leaf=2, max_depth=10 \n",
            "[CV]  n_estimators=300, min_samples_split=7, min_samples_leaf=2, max_depth=10, total=   0.5s\n",
            "[CV] n_estimators=300, min_samples_split=7, min_samples_leaf=2, max_depth=10 \n",
            "[CV]  n_estimators=300, min_samples_split=7, min_samples_leaf=2, max_depth=10, total=   0.5s\n",
            "[CV] n_estimators=300, min_samples_split=7, min_samples_leaf=2, max_depth=10 \n",
            "[CV]  n_estimators=300, min_samples_split=7, min_samples_leaf=2, max_depth=10, total=   0.5s\n",
            "[CV] n_estimators=100, min_samples_split=7, min_samples_leaf=4, max_depth=5 \n",
            "[CV]  n_estimators=100, min_samples_split=7, min_samples_leaf=4, max_depth=5, total=   0.2s\n",
            "[CV] n_estimators=100, min_samples_split=7, min_samples_leaf=4, max_depth=5 \n",
            "[CV]  n_estimators=100, min_samples_split=7, min_samples_leaf=4, max_depth=5, total=   0.2s\n",
            "[CV] n_estimators=100, min_samples_split=7, min_samples_leaf=4, max_depth=5 \n",
            "[CV]  n_estimators=100, min_samples_split=7, min_samples_leaf=4, max_depth=5, total=   0.2s\n",
            "[CV] n_estimators=100, min_samples_split=7, min_samples_leaf=4, max_depth=5 \n",
            "[CV]  n_estimators=100, min_samples_split=7, min_samples_leaf=4, max_depth=5, total=   0.2s\n",
            "[CV] n_estimators=100, min_samples_split=7, min_samples_leaf=4, max_depth=5 \n",
            "[CV]  n_estimators=100, min_samples_split=7, min_samples_leaf=4, max_depth=5, total=   0.2s\n",
            "[CV] n_estimators=500, min_samples_split=5, min_samples_leaf=2, max_depth=10 \n",
            "[CV]  n_estimators=500, min_samples_split=5, min_samples_leaf=2, max_depth=10, total=   0.8s\n",
            "[CV] n_estimators=500, min_samples_split=5, min_samples_leaf=2, max_depth=10 \n",
            "[CV]  n_estimators=500, min_samples_split=5, min_samples_leaf=2, max_depth=10, total=   0.8s\n",
            "[CV] n_estimators=500, min_samples_split=5, min_samples_leaf=2, max_depth=10 \n",
            "[CV]  n_estimators=500, min_samples_split=5, min_samples_leaf=2, max_depth=10, total=   0.8s\n",
            "[CV] n_estimators=500, min_samples_split=5, min_samples_leaf=2, max_depth=10 \n",
            "[CV]  n_estimators=500, min_samples_split=5, min_samples_leaf=2, max_depth=10, total=   0.8s\n",
            "[CV] n_estimators=500, min_samples_split=5, min_samples_leaf=2, max_depth=10 \n",
            "[CV]  n_estimators=500, min_samples_split=5, min_samples_leaf=2, max_depth=10, total=   0.8s\n",
            "[CV] n_estimators=200, min_samples_split=5, min_samples_leaf=2, max_depth=None \n",
            "[CV]  n_estimators=200, min_samples_split=5, min_samples_leaf=2, max_depth=None, total=   0.3s\n",
            "[CV] n_estimators=200, min_samples_split=5, min_samples_leaf=2, max_depth=None \n",
            "[CV]  n_estimators=200, min_samples_split=5, min_samples_leaf=2, max_depth=None, total=   0.3s\n",
            "[CV] n_estimators=200, min_samples_split=5, min_samples_leaf=2, max_depth=None \n",
            "[CV]  n_estimators=200, min_samples_split=5, min_samples_leaf=2, max_depth=None, total=   0.3s\n",
            "[CV] n_estimators=200, min_samples_split=5, min_samples_leaf=2, max_depth=None \n",
            "[CV]  n_estimators=200, min_samples_split=5, min_samples_leaf=2, max_depth=None, total=   0.3s\n",
            "[CV] n_estimators=200, min_samples_split=5, min_samples_leaf=2, max_depth=None \n",
            "[CV]  n_estimators=200, min_samples_split=5, min_samples_leaf=2, max_depth=None, total=   0.3s\n",
            "[CV] n_estimators=700, min_samples_split=5, min_samples_leaf=2, max_depth=5 \n",
            "[CV]  n_estimators=700, min_samples_split=5, min_samples_leaf=2, max_depth=5, total=   1.1s\n",
            "[CV] n_estimators=700, min_samples_split=5, min_samples_leaf=2, max_depth=5 \n",
            "[CV]  n_estimators=700, min_samples_split=5, min_samples_leaf=2, max_depth=5, total=   1.1s\n",
            "[CV] n_estimators=700, min_samples_split=5, min_samples_leaf=2, max_depth=5 \n",
            "[CV]  n_estimators=700, min_samples_split=5, min_samples_leaf=2, max_depth=5, total=   1.1s\n",
            "[CV] n_estimators=700, min_samples_split=5, min_samples_leaf=2, max_depth=5 \n",
            "[CV]  n_estimators=700, min_samples_split=5, min_samples_leaf=2, max_depth=5, total=   1.1s\n",
            "[CV] n_estimators=700, min_samples_split=5, min_samples_leaf=2, max_depth=5 \n",
            "[CV]  n_estimators=700, min_samples_split=5, min_samples_leaf=2, max_depth=5, total=   1.1s\n",
            "[CV] n_estimators=400, min_samples_split=56, min_samples_leaf=2, max_depth=5 \n",
            "[CV]  n_estimators=400, min_samples_split=56, min_samples_leaf=2, max_depth=5, total=   0.6s\n",
            "[CV] n_estimators=400, min_samples_split=56, min_samples_leaf=2, max_depth=5 \n",
            "[CV]  n_estimators=400, min_samples_split=56, min_samples_leaf=2, max_depth=5, total=   0.6s\n",
            "[CV] n_estimators=400, min_samples_split=56, min_samples_leaf=2, max_depth=5 \n",
            "[CV]  n_estimators=400, min_samples_split=56, min_samples_leaf=2, max_depth=5, total=   0.6s\n",
            "[CV] n_estimators=400, min_samples_split=56, min_samples_leaf=2, max_depth=5 \n",
            "[CV]  n_estimators=400, min_samples_split=56, min_samples_leaf=2, max_depth=5, total=   0.6s\n",
            "[CV] n_estimators=400, min_samples_split=56, min_samples_leaf=2, max_depth=5 \n",
            "[CV]  n_estimators=400, min_samples_split=56, min_samples_leaf=2, max_depth=5, total=   0.6s\n",
            "[CV] n_estimators=200, min_samples_split=5, min_samples_leaf=3, max_depth=None \n",
            "[CV]  n_estimators=200, min_samples_split=5, min_samples_leaf=3, max_depth=None, total=   0.3s\n",
            "[CV] n_estimators=200, min_samples_split=5, min_samples_leaf=3, max_depth=None \n",
            "[CV]  n_estimators=200, min_samples_split=5, min_samples_leaf=3, max_depth=None, total=   0.3s\n",
            "[CV] n_estimators=200, min_samples_split=5, min_samples_leaf=3, max_depth=None \n",
            "[CV]  n_estimators=200, min_samples_split=5, min_samples_leaf=3, max_depth=None, total=   0.3s\n",
            "[CV] n_estimators=200, min_samples_split=5, min_samples_leaf=3, max_depth=None \n",
            "[CV]  n_estimators=200, min_samples_split=5, min_samples_leaf=3, max_depth=None, total=   0.4s\n",
            "[CV] n_estimators=200, min_samples_split=5, min_samples_leaf=3, max_depth=None \n",
            "[CV]  n_estimators=200, min_samples_split=5, min_samples_leaf=3, max_depth=None, total=   0.4s\n",
            "[CV] n_estimators=400, min_samples_split=7, min_samples_leaf=3, max_depth=None \n",
            "[CV]  n_estimators=400, min_samples_split=7, min_samples_leaf=3, max_depth=None, total=   0.7s\n",
            "[CV] n_estimators=400, min_samples_split=7, min_samples_leaf=3, max_depth=None \n",
            "[CV]  n_estimators=400, min_samples_split=7, min_samples_leaf=3, max_depth=None, total=   0.7s\n",
            "[CV] n_estimators=400, min_samples_split=7, min_samples_leaf=3, max_depth=None \n",
            "[CV]  n_estimators=400, min_samples_split=7, min_samples_leaf=3, max_depth=None, total=   0.7s\n",
            "[CV] n_estimators=400, min_samples_split=7, min_samples_leaf=3, max_depth=None \n",
            "[CV]  n_estimators=400, min_samples_split=7, min_samples_leaf=3, max_depth=None, total=   0.7s\n",
            "[CV] n_estimators=400, min_samples_split=7, min_samples_leaf=3, max_depth=None \n",
            "[CV]  n_estimators=400, min_samples_split=7, min_samples_leaf=3, max_depth=None, total=   0.7s\n",
            "[CV] n_estimators=600, min_samples_split=7, min_samples_leaf=3, max_depth=10 \n",
            "[CV]  n_estimators=600, min_samples_split=7, min_samples_leaf=3, max_depth=10, total=   1.0s\n",
            "[CV] n_estimators=600, min_samples_split=7, min_samples_leaf=3, max_depth=10 \n",
            "[CV]  n_estimators=600, min_samples_split=7, min_samples_leaf=3, max_depth=10, total=   1.0s\n",
            "[CV] n_estimators=600, min_samples_split=7, min_samples_leaf=3, max_depth=10 \n",
            "[CV]  n_estimators=600, min_samples_split=7, min_samples_leaf=3, max_depth=10, total=   1.0s\n",
            "[CV] n_estimators=600, min_samples_split=7, min_samples_leaf=3, max_depth=10 \n",
            "[CV]  n_estimators=600, min_samples_split=7, min_samples_leaf=3, max_depth=10, total=   1.0s\n",
            "[CV] n_estimators=600, min_samples_split=7, min_samples_leaf=3, max_depth=10 \n",
            "[CV]  n_estimators=600, min_samples_split=7, min_samples_leaf=3, max_depth=10, total=   1.0s\n"
          ],
          "name": "stdout"
        },
        {
          "output_type": "stream",
          "text": [
            "[Parallel(n_jobs=1)]: Done  50 out of  50 | elapsed:   28.8s finished\n"
          ],
          "name": "stderr"
        },
        {
          "output_type": "execute_result",
          "data": {
            "text/plain": [
              "{'max_depth': 10,\n",
              " 'min_samples_leaf': 3,\n",
              " 'min_samples_split': 7,\n",
              " 'n_estimators': 600}"
            ]
          },
          "metadata": {
            "tags": []
          },
          "execution_count": 73
        }
      ]
    },
    {
      "cell_type": "code",
      "metadata": {
        "colab": {
          "base_uri": "https://localhost:8080/"
        },
        "id": "7fYQX6M7yu3P",
        "outputId": "143b22af-67d3-444f-a20b-21296208a907"
      },
      "source": [
        "clf_best_params = RandomForestClassifier(n_estimators=600,\n",
        "                                         max_depth=10,\n",
        "                                         min_samples_leaf=3,\n",
        "                                         min_samples_split=7)\n",
        "\n",
        "clf_best_params.fit(X_train,y_train)\n",
        "clf_best_params.score(X_test,y_test)"
      ],
      "execution_count": 75,
      "outputs": [
        {
          "output_type": "execute_result",
          "data": {
            "text/plain": [
              "0.8470588235294118"
            ]
          },
          "metadata": {
            "tags": []
          },
          "execution_count": 75
        }
      ]
    },
    {
      "cell_type": "code",
      "metadata": {
        "colab": {
          "base_uri": "https://localhost:8080/"
        },
        "id": "LYuO2z0O3Hba",
        "outputId": "c6575590-ba36-4676-cea5-c58d53ead04c"
      },
      "source": [
        "rf_rscv.score(X_test,y_test)"
      ],
      "execution_count": 76,
      "outputs": [
        {
          "output_type": "execute_result",
          "data": {
            "text/plain": [
              "0.8470588235294118"
            ]
          },
          "metadata": {
            "tags": []
          },
          "execution_count": 76
        }
      ]
    },
    {
      "cell_type": "code",
      "metadata": {
        "id": "vhIm23CB3KKq"
      },
      "source": [
        ""
      ],
      "execution_count": null,
      "outputs": []
    }
  ]
}