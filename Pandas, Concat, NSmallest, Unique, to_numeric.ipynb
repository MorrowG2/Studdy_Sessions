{
  "nbformat": 4,
  "nbformat_minor": 0,
  "metadata": {
    "colab": {
      "name": "practice_stuff.ipynb",
      "provenance": []
    },
    "kernelspec": {
      "name": "python3",
      "display_name": "Python 3"
    },
    "language_info": {
      "name": "python"
    }
  },
  "cells": [
    {
      "cell_type": "code",
      "metadata": {
        "colab": {
          "base_uri": "https://localhost:8080/"
        },
        "id": "bzF2uTou_oer",
        "outputId": "b0c81314-1995-48c2-e749-fa614a1f4c79"
      },
      "source": [
        "from google.colab import drive\n",
        "drive.mount('/content/drive')"
      ],
      "execution_count": 2,
      "outputs": [
        {
          "output_type": "stream",
          "text": [
            "Mounted at /content/drive\n"
          ],
          "name": "stdout"
        }
      ]
    },
    {
      "cell_type": "code",
      "metadata": {
        "colab": {
          "base_uri": "https://localhost:8080/",
          "height": 499
        },
        "id": "seRBsF-O_-wx",
        "outputId": "85c96ff7-98bf-4026-b942-86dcdd11eb6b"
      },
      "source": [
        "import pandas as pd\n",
        "\n",
        "df = pd.read_csv('titanic_train.csv')\n",
        "summer = pd.read_csv('summer.csv')\n",
        "df.head()"
      ],
      "execution_count": 6,
      "outputs": [
        {
          "output_type": "execute_result",
          "data": {
            "text/html": [
              "<div>\n",
              "<style scoped>\n",
              "    .dataframe tbody tr th:only-of-type {\n",
              "        vertical-align: middle;\n",
              "    }\n",
              "\n",
              "    .dataframe tbody tr th {\n",
              "        vertical-align: top;\n",
              "    }\n",
              "\n",
              "    .dataframe thead th {\n",
              "        text-align: right;\n",
              "    }\n",
              "</style>\n",
              "<table border=\"1\" class=\"dataframe\">\n",
              "  <thead>\n",
              "    <tr style=\"text-align: right;\">\n",
              "      <th></th>\n",
              "      <th>passenger_id</th>\n",
              "      <th>pclass</th>\n",
              "      <th>name</th>\n",
              "      <th>sex</th>\n",
              "      <th>age</th>\n",
              "      <th>sibsp</th>\n",
              "      <th>parch</th>\n",
              "      <th>ticket</th>\n",
              "      <th>fare</th>\n",
              "      <th>cabin</th>\n",
              "      <th>embarked</th>\n",
              "      <th>boat</th>\n",
              "      <th>body</th>\n",
              "      <th>home.dest</th>\n",
              "      <th>survived</th>\n",
              "    </tr>\n",
              "  </thead>\n",
              "  <tbody>\n",
              "    <tr>\n",
              "      <th>0</th>\n",
              "      <td>1216</td>\n",
              "      <td>3</td>\n",
              "      <td>Smyth, Miss. Julia</td>\n",
              "      <td>female</td>\n",
              "      <td>NaN</td>\n",
              "      <td>0</td>\n",
              "      <td>0</td>\n",
              "      <td>335432</td>\n",
              "      <td>7.7333</td>\n",
              "      <td>NaN</td>\n",
              "      <td>Q</td>\n",
              "      <td>13</td>\n",
              "      <td>NaN</td>\n",
              "      <td>NaN</td>\n",
              "      <td>1</td>\n",
              "    </tr>\n",
              "    <tr>\n",
              "      <th>1</th>\n",
              "      <td>699</td>\n",
              "      <td>3</td>\n",
              "      <td>Cacic, Mr. Luka</td>\n",
              "      <td>male</td>\n",
              "      <td>38.0</td>\n",
              "      <td>0</td>\n",
              "      <td>0</td>\n",
              "      <td>315089</td>\n",
              "      <td>8.6625</td>\n",
              "      <td>NaN</td>\n",
              "      <td>S</td>\n",
              "      <td>NaN</td>\n",
              "      <td>NaN</td>\n",
              "      <td>Croatia</td>\n",
              "      <td>0</td>\n",
              "    </tr>\n",
              "    <tr>\n",
              "      <th>2</th>\n",
              "      <td>1267</td>\n",
              "      <td>3</td>\n",
              "      <td>Van Impe, Mrs. Jean Baptiste (Rosalie Paula Go...</td>\n",
              "      <td>female</td>\n",
              "      <td>30.0</td>\n",
              "      <td>1</td>\n",
              "      <td>1</td>\n",
              "      <td>345773</td>\n",
              "      <td>24.1500</td>\n",
              "      <td>NaN</td>\n",
              "      <td>S</td>\n",
              "      <td>NaN</td>\n",
              "      <td>NaN</td>\n",
              "      <td>NaN</td>\n",
              "      <td>0</td>\n",
              "    </tr>\n",
              "    <tr>\n",
              "      <th>3</th>\n",
              "      <td>449</td>\n",
              "      <td>2</td>\n",
              "      <td>Hocking, Mrs. Elizabeth (Eliza Needs)</td>\n",
              "      <td>female</td>\n",
              "      <td>54.0</td>\n",
              "      <td>1</td>\n",
              "      <td>3</td>\n",
              "      <td>29105</td>\n",
              "      <td>23.0000</td>\n",
              "      <td>NaN</td>\n",
              "      <td>S</td>\n",
              "      <td>4</td>\n",
              "      <td>NaN</td>\n",
              "      <td>Cornwall / Akron, OH</td>\n",
              "      <td>1</td>\n",
              "    </tr>\n",
              "    <tr>\n",
              "      <th>4</th>\n",
              "      <td>576</td>\n",
              "      <td>2</td>\n",
              "      <td>Veal, Mr. James</td>\n",
              "      <td>male</td>\n",
              "      <td>40.0</td>\n",
              "      <td>0</td>\n",
              "      <td>0</td>\n",
              "      <td>28221</td>\n",
              "      <td>13.0000</td>\n",
              "      <td>NaN</td>\n",
              "      <td>S</td>\n",
              "      <td>NaN</td>\n",
              "      <td>NaN</td>\n",
              "      <td>Barre, Co Washington, VT</td>\n",
              "      <td>0</td>\n",
              "    </tr>\n",
              "  </tbody>\n",
              "</table>\n",
              "</div>"
            ],
            "text/plain": [
              "   passenger_id  pclass  ...                 home.dest survived\n",
              "0          1216       3  ...                       NaN        1\n",
              "1           699       3  ...                   Croatia        0\n",
              "2          1267       3  ...                       NaN        0\n",
              "3           449       2  ...      Cornwall / Akron, OH        1\n",
              "4           576       2  ...  Barre, Co Washington, VT        0\n",
              "\n",
              "[5 rows x 15 columns]"
            ]
          },
          "metadata": {
            "tags": []
          },
          "execution_count": 6
        }
      ]
    },
    {
      "cell_type": "code",
      "metadata": {
        "colab": {
          "base_uri": "https://localhost:8080/",
          "height": 202
        },
        "id": "-TgnBZs9AH9p",
        "outputId": "0615674f-c03b-4a7d-928e-a9f8848d3ac9"
      },
      "source": [
        "summer.head()"
      ],
      "execution_count": 7,
      "outputs": [
        {
          "output_type": "execute_result",
          "data": {
            "text/html": [
              "<div>\n",
              "<style scoped>\n",
              "    .dataframe tbody tr th:only-of-type {\n",
              "        vertical-align: middle;\n",
              "    }\n",
              "\n",
              "    .dataframe tbody tr th {\n",
              "        vertical-align: top;\n",
              "    }\n",
              "\n",
              "    .dataframe thead th {\n",
              "        text-align: right;\n",
              "    }\n",
              "</style>\n",
              "<table border=\"1\" class=\"dataframe\">\n",
              "  <thead>\n",
              "    <tr style=\"text-align: right;\">\n",
              "      <th></th>\n",
              "      <th>Year</th>\n",
              "      <th>City</th>\n",
              "      <th>Sport</th>\n",
              "      <th>Discipline</th>\n",
              "      <th>Athlete</th>\n",
              "      <th>Country</th>\n",
              "      <th>Gender</th>\n",
              "      <th>Event</th>\n",
              "      <th>Medal</th>\n",
              "    </tr>\n",
              "  </thead>\n",
              "  <tbody>\n",
              "    <tr>\n",
              "      <th>0</th>\n",
              "      <td>1896</td>\n",
              "      <td>Athens</td>\n",
              "      <td>Aquatics</td>\n",
              "      <td>Swimming</td>\n",
              "      <td>HAJOS, Alfred</td>\n",
              "      <td>HUN</td>\n",
              "      <td>Men</td>\n",
              "      <td>100M Freestyle</td>\n",
              "      <td>Gold</td>\n",
              "    </tr>\n",
              "    <tr>\n",
              "      <th>1</th>\n",
              "      <td>1896</td>\n",
              "      <td>Athens</td>\n",
              "      <td>Aquatics</td>\n",
              "      <td>Swimming</td>\n",
              "      <td>HERSCHMANN, Otto</td>\n",
              "      <td>AUT</td>\n",
              "      <td>Men</td>\n",
              "      <td>100M Freestyle</td>\n",
              "      <td>Silver</td>\n",
              "    </tr>\n",
              "    <tr>\n",
              "      <th>2</th>\n",
              "      <td>1896</td>\n",
              "      <td>Athens</td>\n",
              "      <td>Aquatics</td>\n",
              "      <td>Swimming</td>\n",
              "      <td>DRIVAS, Dimitrios</td>\n",
              "      <td>GRE</td>\n",
              "      <td>Men</td>\n",
              "      <td>100M Freestyle For Sailors</td>\n",
              "      <td>Bronze</td>\n",
              "    </tr>\n",
              "    <tr>\n",
              "      <th>3</th>\n",
              "      <td>1896</td>\n",
              "      <td>Athens</td>\n",
              "      <td>Aquatics</td>\n",
              "      <td>Swimming</td>\n",
              "      <td>MALOKINIS, Ioannis</td>\n",
              "      <td>GRE</td>\n",
              "      <td>Men</td>\n",
              "      <td>100M Freestyle For Sailors</td>\n",
              "      <td>Gold</td>\n",
              "    </tr>\n",
              "    <tr>\n",
              "      <th>4</th>\n",
              "      <td>1896</td>\n",
              "      <td>Athens</td>\n",
              "      <td>Aquatics</td>\n",
              "      <td>Swimming</td>\n",
              "      <td>CHASAPIS, Spiridon</td>\n",
              "      <td>GRE</td>\n",
              "      <td>Men</td>\n",
              "      <td>100M Freestyle For Sailors</td>\n",
              "      <td>Silver</td>\n",
              "    </tr>\n",
              "  </tbody>\n",
              "</table>\n",
              "</div>"
            ],
            "text/plain": [
              "   Year    City     Sport  ... Gender                       Event   Medal\n",
              "0  1896  Athens  Aquatics  ...    Men              100M Freestyle    Gold\n",
              "1  1896  Athens  Aquatics  ...    Men              100M Freestyle  Silver\n",
              "2  1896  Athens  Aquatics  ...    Men  100M Freestyle For Sailors  Bronze\n",
              "3  1896  Athens  Aquatics  ...    Men  100M Freestyle For Sailors    Gold\n",
              "4  1896  Athens  Aquatics  ...    Men  100M Freestyle For Sailors  Silver\n",
              "\n",
              "[5 rows x 9 columns]"
            ]
          },
          "metadata": {
            "tags": []
          },
          "execution_count": 7
        }
      ]
    },
    {
      "cell_type": "code",
      "metadata": {
        "colab": {
          "base_uri": "https://localhost:8080/"
        },
        "id": "970VbJpFAORa",
        "outputId": "30d4ba8d-1660-43ab-87cb-7e2ceb08d7a1"
      },
      "source": [
        "pd.to_numeric(df['Meal Price'], errors='coerce')"
      ],
      "execution_count": 9,
      "outputs": [
        {
          "output_type": "execute_result",
          "data": {
            "text/plain": [
              "Series([], Name: sex, dtype: object)"
            ]
          },
          "metadata": {
            "tags": []
          },
          "execution_count": 9
        }
      ]
    },
    {
      "cell_type": "code",
      "metadata": {
        "colab": {
          "base_uri": "https://localhost:8080/"
        },
        "id": "3TPkbCxdGCwp",
        "outputId": "066a2c82-2594-4068-8725-2ecc6fbbe896"
      },
      "source": [
        "df.loc[df.sex == 'male']['fare']"
      ],
      "execution_count": 10,
      "outputs": [
        {
          "output_type": "execute_result",
          "data": {
            "text/plain": [
              "1        8.6625\n",
              "4       13.0000\n",
              "5       22.5250\n",
              "6        0.0000\n",
              "10     211.5000\n",
              "         ...   \n",
              "843      6.4958\n",
              "844     90.0000\n",
              "845     50.0000\n",
              "846     29.7000\n",
              "849     13.0000\n",
              "Name: fare, Length: 551, dtype: float64"
            ]
          },
          "metadata": {
            "tags": []
          },
          "execution_count": 10
        }
      ]
    },
    {
      "cell_type": "code",
      "metadata": {
        "colab": {
          "base_uri": "https://localhost:8080/"
        },
        "id": "9ZhkGcnTHKvg",
        "outputId": "8709354b-04da-4be4-f88b-bf22421ef1e7"
      },
      "source": [
        "len(df.age.unique()) == df.age.nunique(dropna=False)"
      ],
      "execution_count": 12,
      "outputs": [
        {
          "output_type": "execute_result",
          "data": {
            "text/plain": [
              "True"
            ]
          },
          "metadata": {
            "tags": []
          },
          "execution_count": 12
        }
      ]
    },
    {
      "cell_type": "code",
      "metadata": {
        "colab": {
          "base_uri": "https://localhost:8080/"
        },
        "id": "60cTLHchHqN7",
        "outputId": "3bc44ce9-528d-4877-e71d-f2c0abc885fd"
      },
      "source": [
        "df.columns"
      ],
      "execution_count": 15,
      "outputs": [
        {
          "output_type": "execute_result",
          "data": {
            "text/plain": [
              "Index(['passenger_id', 'pclass', 'name', 'sex', 'age', 'sibsp', 'parch',\n",
              "       'ticket', 'fare', 'cabin', 'embarked', 'boat', 'body', 'home.dest',\n",
              "       'survived'],\n",
              "      dtype='object')"
            ]
          },
          "metadata": {
            "tags": []
          },
          "execution_count": 15
        }
      ]
    },
    {
      "cell_type": "code",
      "metadata": {
        "colab": {
          "base_uri": "https://localhost:8080/"
        },
        "id": "wn59fvqwKFjR",
        "outputId": "f46500e4-c4c0-4160-d63b-ec05bfb5ab7c"
      },
      "source": [
        "summer.columns"
      ],
      "execution_count": 16,
      "outputs": [
        {
          "output_type": "execute_result",
          "data": {
            "text/plain": [
              "Index(['Year', 'City', 'Sport', 'Discipline', 'Athlete', 'Country', 'Gender',\n",
              "       'Event', 'Medal'],\n",
              "      dtype='object')"
            ]
          },
          "metadata": {
            "tags": []
          },
          "execution_count": 16
        }
      ]
    },
    {
      "cell_type": "code",
      "metadata": {
        "colab": {
          "base_uri": "https://localhost:8080/"
        },
        "id": "e4PHqqCWKI_r",
        "outputId": "cbe1cf99-d747-4d7a-f541-5fb946dc39a7"
      },
      "source": [
        "df.dtypes"
      ],
      "execution_count": 17,
      "outputs": [
        {
          "output_type": "execute_result",
          "data": {
            "text/plain": [
              "passenger_id      int64\n",
              "pclass            int64\n",
              "name             object\n",
              "sex              object\n",
              "age             float64\n",
              "sibsp             int64\n",
              "parch             int64\n",
              "ticket           object\n",
              "fare            float64\n",
              "cabin            object\n",
              "embarked         object\n",
              "boat             object\n",
              "body            float64\n",
              "home.dest        object\n",
              "survived          int64\n",
              "dtype: object"
            ]
          },
          "metadata": {
            "tags": []
          },
          "execution_count": 17
        }
      ]
    },
    {
      "cell_type": "code",
      "metadata": {
        "colab": {
          "base_uri": "https://localhost:8080/",
          "height": 415
        },
        "id": "PjR8i0sDKRuU",
        "outputId": "b73472d7-9ba1-45ff-a3e1-2221c98f1dfb"
      },
      "source": [
        "mask2 = df.dtypes == object\n",
        "mask = df.sex == 'male'\n",
        "df.loc[df.sex == 'male', ~mask2]"
      ],
      "execution_count": 18,
      "outputs": [
        {
          "output_type": "execute_result",
          "data": {
            "text/html": [
              "<div>\n",
              "<style scoped>\n",
              "    .dataframe tbody tr th:only-of-type {\n",
              "        vertical-align: middle;\n",
              "    }\n",
              "\n",
              "    .dataframe tbody tr th {\n",
              "        vertical-align: top;\n",
              "    }\n",
              "\n",
              "    .dataframe thead th {\n",
              "        text-align: right;\n",
              "    }\n",
              "</style>\n",
              "<table border=\"1\" class=\"dataframe\">\n",
              "  <thead>\n",
              "    <tr style=\"text-align: right;\">\n",
              "      <th></th>\n",
              "      <th>passenger_id</th>\n",
              "      <th>pclass</th>\n",
              "      <th>age</th>\n",
              "      <th>sibsp</th>\n",
              "      <th>parch</th>\n",
              "      <th>fare</th>\n",
              "      <th>body</th>\n",
              "      <th>survived</th>\n",
              "    </tr>\n",
              "  </thead>\n",
              "  <tbody>\n",
              "    <tr>\n",
              "      <th>1</th>\n",
              "      <td>699</td>\n",
              "      <td>3</td>\n",
              "      <td>38.0</td>\n",
              "      <td>0</td>\n",
              "      <td>0</td>\n",
              "      <td>8.6625</td>\n",
              "      <td>NaN</td>\n",
              "      <td>0</td>\n",
              "    </tr>\n",
              "    <tr>\n",
              "      <th>4</th>\n",
              "      <td>576</td>\n",
              "      <td>2</td>\n",
              "      <td>40.0</td>\n",
              "      <td>0</td>\n",
              "      <td>0</td>\n",
              "      <td>13.0000</td>\n",
              "      <td>NaN</td>\n",
              "      <td>0</td>\n",
              "    </tr>\n",
              "    <tr>\n",
              "      <th>5</th>\n",
              "      <td>1083</td>\n",
              "      <td>3</td>\n",
              "      <td>28.0</td>\n",
              "      <td>0</td>\n",
              "      <td>0</td>\n",
              "      <td>22.5250</td>\n",
              "      <td>173.0</td>\n",
              "      <td>0</td>\n",
              "    </tr>\n",
              "    <tr>\n",
              "      <th>6</th>\n",
              "      <td>898</td>\n",
              "      <td>3</td>\n",
              "      <td>19.0</td>\n",
              "      <td>0</td>\n",
              "      <td>0</td>\n",
              "      <td>0.0000</td>\n",
              "      <td>NaN</td>\n",
              "      <td>0</td>\n",
              "    </tr>\n",
              "    <tr>\n",
              "      <th>10</th>\n",
              "      <td>313</td>\n",
              "      <td>1</td>\n",
              "      <td>27.0</td>\n",
              "      <td>0</td>\n",
              "      <td>2</td>\n",
              "      <td>211.5000</td>\n",
              "      <td>NaN</td>\n",
              "      <td>0</td>\n",
              "    </tr>\n",
              "    <tr>\n",
              "      <th>...</th>\n",
              "      <td>...</td>\n",
              "      <td>...</td>\n",
              "      <td>...</td>\n",
              "      <td>...</td>\n",
              "      <td>...</td>\n",
              "      <td>...</td>\n",
              "      <td>...</td>\n",
              "      <td>...</td>\n",
              "    </tr>\n",
              "    <tr>\n",
              "      <th>843</th>\n",
              "      <td>1288</td>\n",
              "      <td>3</td>\n",
              "      <td>18.0</td>\n",
              "      <td>1</td>\n",
              "      <td>0</td>\n",
              "      <td>6.4958</td>\n",
              "      <td>314.0</td>\n",
              "      <td>0</td>\n",
              "    </tr>\n",
              "    <tr>\n",
              "      <th>844</th>\n",
              "      <td>165</td>\n",
              "      <td>1</td>\n",
              "      <td>38.0</td>\n",
              "      <td>1</td>\n",
              "      <td>0</td>\n",
              "      <td>90.0000</td>\n",
              "      <td>NaN</td>\n",
              "      <td>1</td>\n",
              "    </tr>\n",
              "    <tr>\n",
              "      <th>845</th>\n",
              "      <td>158</td>\n",
              "      <td>1</td>\n",
              "      <td>55.0</td>\n",
              "      <td>0</td>\n",
              "      <td>0</td>\n",
              "      <td>50.0000</td>\n",
              "      <td>NaN</td>\n",
              "      <td>0</td>\n",
              "    </tr>\n",
              "    <tr>\n",
              "      <th>846</th>\n",
              "      <td>174</td>\n",
              "      <td>1</td>\n",
              "      <td>58.0</td>\n",
              "      <td>0</td>\n",
              "      <td>0</td>\n",
              "      <td>29.7000</td>\n",
              "      <td>258.0</td>\n",
              "      <td>0</td>\n",
              "    </tr>\n",
              "    <tr>\n",
              "      <th>849</th>\n",
              "      <td>425</td>\n",
              "      <td>2</td>\n",
              "      <td>52.0</td>\n",
              "      <td>0</td>\n",
              "      <td>0</td>\n",
              "      <td>13.0000</td>\n",
              "      <td>19.0</td>\n",
              "      <td>0</td>\n",
              "    </tr>\n",
              "  </tbody>\n",
              "</table>\n",
              "<p>551 rows × 8 columns</p>\n",
              "</div>"
            ],
            "text/plain": [
              "     passenger_id  pclass   age  sibsp  parch      fare   body  survived\n",
              "1             699       3  38.0      0      0    8.6625    NaN         0\n",
              "4             576       2  40.0      0      0   13.0000    NaN         0\n",
              "5            1083       3  28.0      0      0   22.5250  173.0         0\n",
              "6             898       3  19.0      0      0    0.0000    NaN         0\n",
              "10            313       1  27.0      0      2  211.5000    NaN         0\n",
              "..            ...     ...   ...    ...    ...       ...    ...       ...\n",
              "843          1288       3  18.0      1      0    6.4958  314.0         0\n",
              "844           165       1  38.0      1      0   90.0000    NaN         1\n",
              "845           158       1  55.0      0      0   50.0000    NaN         0\n",
              "846           174       1  58.0      0      0   29.7000  258.0         0\n",
              "849           425       2  52.0      0      0   13.0000   19.0         0\n",
              "\n",
              "[551 rows x 8 columns]"
            ]
          },
          "metadata": {
            "tags": []
          },
          "execution_count": 18
        }
      ]
    },
    {
      "cell_type": "code",
      "metadata": {
        "colab": {
          "base_uri": "https://localhost:8080/"
        },
        "id": "4UVityWiKjyG",
        "outputId": "42e634ee-458d-462f-e172-c51930bb9ec9"
      },
      "source": [
        "summer.columns"
      ],
      "execution_count": 19,
      "outputs": [
        {
          "output_type": "execute_result",
          "data": {
            "text/plain": [
              "Index(['Year', 'City', 'Sport', 'Discipline', 'Athlete', 'Country', 'Gender',\n",
              "       'Event', 'Medal'],\n",
              "      dtype='object')"
            ]
          },
          "metadata": {
            "tags": []
          },
          "execution_count": 19
        }
      ]
    },
    {
      "cell_type": "code",
      "metadata": {
        "colab": {
          "base_uri": "https://localhost:8080/",
          "height": 251
        },
        "id": "hOPblTu2Kxil",
        "outputId": "b0a88017-1765-4237-fbfb-fe073c50f0a8"
      },
      "source": [
        "df.nsmallest(n = 2, columns='age')"
      ],
      "execution_count": 21,
      "outputs": [
        {
          "output_type": "execute_result",
          "data": {
            "text/html": [
              "<div>\n",
              "<style scoped>\n",
              "    .dataframe tbody tr th:only-of-type {\n",
              "        vertical-align: middle;\n",
              "    }\n",
              "\n",
              "    .dataframe tbody tr th {\n",
              "        vertical-align: top;\n",
              "    }\n",
              "\n",
              "    .dataframe thead th {\n",
              "        text-align: right;\n",
              "    }\n",
              "</style>\n",
              "<table border=\"1\" class=\"dataframe\">\n",
              "  <thead>\n",
              "    <tr style=\"text-align: right;\">\n",
              "      <th></th>\n",
              "      <th>passenger_id</th>\n",
              "      <th>pclass</th>\n",
              "      <th>name</th>\n",
              "      <th>sex</th>\n",
              "      <th>age</th>\n",
              "      <th>sibsp</th>\n",
              "      <th>parch</th>\n",
              "      <th>ticket</th>\n",
              "      <th>fare</th>\n",
              "      <th>cabin</th>\n",
              "      <th>embarked</th>\n",
              "      <th>boat</th>\n",
              "      <th>body</th>\n",
              "      <th>home.dest</th>\n",
              "      <th>survived</th>\n",
              "    </tr>\n",
              "  </thead>\n",
              "  <tbody>\n",
              "    <tr>\n",
              "      <th>151</th>\n",
              "      <td>763</td>\n",
              "      <td>3</td>\n",
              "      <td>Dean, Miss. Elizabeth Gladys \"Millvina\"</td>\n",
              "      <td>female</td>\n",
              "      <td>0.1667</td>\n",
              "      <td>1</td>\n",
              "      <td>2</td>\n",
              "      <td>C.A. 2315</td>\n",
              "      <td>20.5750</td>\n",
              "      <td>NaN</td>\n",
              "      <td>S</td>\n",
              "      <td>10</td>\n",
              "      <td>NaN</td>\n",
              "      <td>Devon, England Wichita, KS</td>\n",
              "      <td>1</td>\n",
              "    </tr>\n",
              "    <tr>\n",
              "      <th>294</th>\n",
              "      <td>1240</td>\n",
              "      <td>3</td>\n",
              "      <td>Thomas, Master. Assad Alexander</td>\n",
              "      <td>male</td>\n",
              "      <td>0.4167</td>\n",
              "      <td>0</td>\n",
              "      <td>1</td>\n",
              "      <td>2625</td>\n",
              "      <td>8.5167</td>\n",
              "      <td>NaN</td>\n",
              "      <td>C</td>\n",
              "      <td>16</td>\n",
              "      <td>NaN</td>\n",
              "      <td>NaN</td>\n",
              "      <td>1</td>\n",
              "    </tr>\n",
              "  </tbody>\n",
              "</table>\n",
              "</div>"
            ],
            "text/plain": [
              "     passenger_id  pclass  ...                   home.dest survived\n",
              "151           763       3  ...  Devon, England Wichita, KS        1\n",
              "294          1240       3  ...                         NaN        1\n",
              "\n",
              "[2 rows x 15 columns]"
            ]
          },
          "metadata": {
            "tags": []
          },
          "execution_count": 21
        }
      ]
    },
    {
      "cell_type": "code",
      "metadata": {
        "colab": {
          "base_uri": "https://localhost:8080/"
        },
        "id": "BHzcYaTeLgDy",
        "outputId": "fffee77f-ab34-474a-f236-0ddd7e990d0f"
      },
      "source": [
        "summer.Year.dtype"
      ],
      "execution_count": 23,
      "outputs": [
        {
          "output_type": "execute_result",
          "data": {
            "text/plain": [
              "dtype('int64')"
            ]
          },
          "metadata": {
            "tags": []
          },
          "execution_count": 23
        }
      ]
    },
    {
      "cell_type": "code",
      "metadata": {
        "colab": {
          "base_uri": "https://localhost:8080/"
        },
        "id": "2EmvyvNDLBBp",
        "outputId": "86a9d3cd-1337-4efc-86cd-cc23be88e8c7"
      },
      "source": [
        "summer.Year.unique()"
      ],
      "execution_count": 22,
      "outputs": [
        {
          "output_type": "execute_result",
          "data": {
            "text/plain": [
              "array([1896, 1900, 1904, 1908, 1912, 1920, 1924, 1928, 1932, 1936, 1948,\n",
              "       1952, 1956, 1960, 1964, 1968, 1972, 1976, 1980, 1984, 1988, 1992,\n",
              "       1996, 2000, 2004, 2008, 2012])"
            ]
          },
          "metadata": {
            "tags": []
          },
          "execution_count": 22
        }
      ]
    },
    {
      "cell_type": "code",
      "metadata": {
        "colab": {
          "base_uri": "https://localhost:8080/",
          "height": 519
        },
        "id": "oOOGm13jLUX4",
        "outputId": "4a6b91ca-2d1f-4d56-fbcc-ec0570462aa3"
      },
      "source": [
        "df_04 = summer.loc[summer.Year == 1904]\n",
        "df_08 = summer.loc[summer.Year == 1908]\n",
        "df_12 = summer.loc[summer.Year == 1912]\n",
        "\n",
        "\n",
        "pd.concat([df_04, df_08, df_12])"
      ],
      "execution_count": 25,
      "outputs": [
        {
          "output_type": "execute_result",
          "data": {
            "text/html": [
              "<div>\n",
              "<style scoped>\n",
              "    .dataframe tbody tr th:only-of-type {\n",
              "        vertical-align: middle;\n",
              "    }\n",
              "\n",
              "    .dataframe tbody tr th {\n",
              "        vertical-align: top;\n",
              "    }\n",
              "\n",
              "    .dataframe thead th {\n",
              "        text-align: right;\n",
              "    }\n",
              "</style>\n",
              "<table border=\"1\" class=\"dataframe\">\n",
              "  <thead>\n",
              "    <tr style=\"text-align: right;\">\n",
              "      <th></th>\n",
              "      <th>Year</th>\n",
              "      <th>City</th>\n",
              "      <th>Sport</th>\n",
              "      <th>Discipline</th>\n",
              "      <th>Athlete</th>\n",
              "      <th>Country</th>\n",
              "      <th>Gender</th>\n",
              "      <th>Event</th>\n",
              "      <th>Medal</th>\n",
              "    </tr>\n",
              "  </thead>\n",
              "  <tbody>\n",
              "    <tr>\n",
              "      <th>663</th>\n",
              "      <td>1904</td>\n",
              "      <td>St Louis</td>\n",
              "      <td>Aquatics</td>\n",
              "      <td>Diving</td>\n",
              "      <td>BRAUNSCHWEIGER, Alfred</td>\n",
              "      <td>GER</td>\n",
              "      <td>Men</td>\n",
              "      <td>10M Platform</td>\n",
              "      <td>Bronze</td>\n",
              "    </tr>\n",
              "    <tr>\n",
              "      <th>664</th>\n",
              "      <td>1904</td>\n",
              "      <td>St Louis</td>\n",
              "      <td>Aquatics</td>\n",
              "      <td>Diving</td>\n",
              "      <td>KEHOE, Frank</td>\n",
              "      <td>USA</td>\n",
              "      <td>Men</td>\n",
              "      <td>10M Platform</td>\n",
              "      <td>Bronze</td>\n",
              "    </tr>\n",
              "    <tr>\n",
              "      <th>665</th>\n",
              "      <td>1904</td>\n",
              "      <td>St Louis</td>\n",
              "      <td>Aquatics</td>\n",
              "      <td>Diving</td>\n",
              "      <td>SHELDON, George</td>\n",
              "      <td>USA</td>\n",
              "      <td>Men</td>\n",
              "      <td>10M Platform</td>\n",
              "      <td>Gold</td>\n",
              "    </tr>\n",
              "    <tr>\n",
              "      <th>666</th>\n",
              "      <td>1904</td>\n",
              "      <td>St Louis</td>\n",
              "      <td>Aquatics</td>\n",
              "      <td>Diving</td>\n",
              "      <td>HOFFMANN, Georg</td>\n",
              "      <td>GER</td>\n",
              "      <td>Men</td>\n",
              "      <td>10M Platform</td>\n",
              "      <td>Silver</td>\n",
              "    </tr>\n",
              "    <tr>\n",
              "      <th>667</th>\n",
              "      <td>1904</td>\n",
              "      <td>St Louis</td>\n",
              "      <td>Aquatics</td>\n",
              "      <td>Diving</td>\n",
              "      <td>GOODWIN, Leo Budd</td>\n",
              "      <td>USA</td>\n",
              "      <td>Men</td>\n",
              "      <td>Plunge For Distance</td>\n",
              "      <td>Bronze</td>\n",
              "    </tr>\n",
              "    <tr>\n",
              "      <th>...</th>\n",
              "      <td>...</td>\n",
              "      <td>...</td>\n",
              "      <td>...</td>\n",
              "      <td>...</td>\n",
              "      <td>...</td>\n",
              "      <td>...</td>\n",
              "      <td>...</td>\n",
              "      <td>...</td>\n",
              "      <td>...</td>\n",
              "    </tr>\n",
              "    <tr>\n",
              "      <th>2817</th>\n",
              "      <td>1912</td>\n",
              "      <td>Stockholm</td>\n",
              "      <td>Wrestling</td>\n",
              "      <td>Wrestling Gre-R</td>\n",
              "      <td>JOHANSSON, Claes</td>\n",
              "      <td>SWE</td>\n",
              "      <td>Men</td>\n",
              "      <td>67.5 - 75KG (Middleweight)</td>\n",
              "      <td>Gold</td>\n",
              "    </tr>\n",
              "    <tr>\n",
              "      <th>2818</th>\n",
              "      <td>1912</td>\n",
              "      <td>Stockholm</td>\n",
              "      <td>Wrestling</td>\n",
              "      <td>Wrestling Gre-R</td>\n",
              "      <td>KLEIN, Martin</td>\n",
              "      <td>RU1</td>\n",
              "      <td>Men</td>\n",
              "      <td>67.5 - 75KG (Middleweight)</td>\n",
              "      <td>Silver</td>\n",
              "    </tr>\n",
              "    <tr>\n",
              "      <th>2819</th>\n",
              "      <td>1912</td>\n",
              "      <td>Stockholm</td>\n",
              "      <td>Wrestling</td>\n",
              "      <td>Wrestling Gre-R</td>\n",
              "      <td>VARGA, Béla</td>\n",
              "      <td>HUN</td>\n",
              "      <td>Men</td>\n",
              "      <td>75 - 82.5KG (Light-Heavyweight)</td>\n",
              "      <td>Bronze</td>\n",
              "    </tr>\n",
              "    <tr>\n",
              "      <th>2820</th>\n",
              "      <td>1912</td>\n",
              "      <td>Stockholm</td>\n",
              "      <td>Wrestling</td>\n",
              "      <td>Wrestling Gre-R</td>\n",
              "      <td>AHLGREN, Anders</td>\n",
              "      <td>SWE</td>\n",
              "      <td>Men</td>\n",
              "      <td>75 - 82.5KG (Light-Heavyweight)</td>\n",
              "      <td>Silver</td>\n",
              "    </tr>\n",
              "    <tr>\n",
              "      <th>2821</th>\n",
              "      <td>1912</td>\n",
              "      <td>Stockholm</td>\n",
              "      <td>Wrestling</td>\n",
              "      <td>Wrestling Gre-R</td>\n",
              "      <td>BÖHLING, Ivar Theodor</td>\n",
              "      <td>FIN</td>\n",
              "      <td>Men</td>\n",
              "      <td>75 - 82.5KG (Light-Heavyweight)</td>\n",
              "      <td>Silver</td>\n",
              "    </tr>\n",
              "  </tbody>\n",
              "</table>\n",
              "<p>2159 rows × 9 columns</p>\n",
              "</div>"
            ],
            "text/plain": [
              "      Year       City  ...                            Event   Medal\n",
              "663   1904   St Louis  ...                     10M Platform  Bronze\n",
              "664   1904   St Louis  ...                     10M Platform  Bronze\n",
              "665   1904   St Louis  ...                     10M Platform    Gold\n",
              "666   1904   St Louis  ...                     10M Platform  Silver\n",
              "667   1904   St Louis  ...              Plunge For Distance  Bronze\n",
              "...    ...        ...  ...                              ...     ...\n",
              "2817  1912  Stockholm  ...       67.5 - 75KG (Middleweight)    Gold\n",
              "2818  1912  Stockholm  ...       67.5 - 75KG (Middleweight)  Silver\n",
              "2819  1912  Stockholm  ...  75 - 82.5KG (Light-Heavyweight)  Bronze\n",
              "2820  1912  Stockholm  ...  75 - 82.5KG (Light-Heavyweight)  Silver\n",
              "2821  1912  Stockholm  ...  75 - 82.5KG (Light-Heavyweight)  Silver\n",
              "\n",
              "[2159 rows x 9 columns]"
            ]
          },
          "metadata": {
            "tags": []
          },
          "execution_count": 25
        }
      ]
    },
    {
      "cell_type": "code",
      "metadata": {
        "colab": {
          "base_uri": "https://localhost:8080/",
          "height": 639
        },
        "id": "gOSNx_ICLlXP",
        "outputId": "06a4a368-9983-4723-904d-20f0333b8446"
      },
      "source": [
        "pd.concat([df_04,df_08,df_12],\n",
        "          keys=('04','08','12'),\n",
        "          names=['year_group', 'og_index'])"
      ],
      "execution_count": 26,
      "outputs": [
        {
          "output_type": "execute_result",
          "data": {
            "text/html": [
              "<div>\n",
              "<style scoped>\n",
              "    .dataframe tbody tr th:only-of-type {\n",
              "        vertical-align: middle;\n",
              "    }\n",
              "\n",
              "    .dataframe tbody tr th {\n",
              "        vertical-align: top;\n",
              "    }\n",
              "\n",
              "    .dataframe thead th {\n",
              "        text-align: right;\n",
              "    }\n",
              "</style>\n",
              "<table border=\"1\" class=\"dataframe\">\n",
              "  <thead>\n",
              "    <tr style=\"text-align: right;\">\n",
              "      <th></th>\n",
              "      <th></th>\n",
              "      <th>Year</th>\n",
              "      <th>City</th>\n",
              "      <th>Sport</th>\n",
              "      <th>Discipline</th>\n",
              "      <th>Athlete</th>\n",
              "      <th>Country</th>\n",
              "      <th>Gender</th>\n",
              "      <th>Event</th>\n",
              "      <th>Medal</th>\n",
              "    </tr>\n",
              "    <tr>\n",
              "      <th>year_group</th>\n",
              "      <th>og_index</th>\n",
              "      <th></th>\n",
              "      <th></th>\n",
              "      <th></th>\n",
              "      <th></th>\n",
              "      <th></th>\n",
              "      <th></th>\n",
              "      <th></th>\n",
              "      <th></th>\n",
              "      <th></th>\n",
              "    </tr>\n",
              "  </thead>\n",
              "  <tbody>\n",
              "    <tr>\n",
              "      <th rowspan=\"5\" valign=\"top\">04</th>\n",
              "      <th>663</th>\n",
              "      <td>1904</td>\n",
              "      <td>St Louis</td>\n",
              "      <td>Aquatics</td>\n",
              "      <td>Diving</td>\n",
              "      <td>BRAUNSCHWEIGER, Alfred</td>\n",
              "      <td>GER</td>\n",
              "      <td>Men</td>\n",
              "      <td>10M Platform</td>\n",
              "      <td>Bronze</td>\n",
              "    </tr>\n",
              "    <tr>\n",
              "      <th>664</th>\n",
              "      <td>1904</td>\n",
              "      <td>St Louis</td>\n",
              "      <td>Aquatics</td>\n",
              "      <td>Diving</td>\n",
              "      <td>KEHOE, Frank</td>\n",
              "      <td>USA</td>\n",
              "      <td>Men</td>\n",
              "      <td>10M Platform</td>\n",
              "      <td>Bronze</td>\n",
              "    </tr>\n",
              "    <tr>\n",
              "      <th>665</th>\n",
              "      <td>1904</td>\n",
              "      <td>St Louis</td>\n",
              "      <td>Aquatics</td>\n",
              "      <td>Diving</td>\n",
              "      <td>SHELDON, George</td>\n",
              "      <td>USA</td>\n",
              "      <td>Men</td>\n",
              "      <td>10M Platform</td>\n",
              "      <td>Gold</td>\n",
              "    </tr>\n",
              "    <tr>\n",
              "      <th>666</th>\n",
              "      <td>1904</td>\n",
              "      <td>St Louis</td>\n",
              "      <td>Aquatics</td>\n",
              "      <td>Diving</td>\n",
              "      <td>HOFFMANN, Georg</td>\n",
              "      <td>GER</td>\n",
              "      <td>Men</td>\n",
              "      <td>10M Platform</td>\n",
              "      <td>Silver</td>\n",
              "    </tr>\n",
              "    <tr>\n",
              "      <th>667</th>\n",
              "      <td>1904</td>\n",
              "      <td>St Louis</td>\n",
              "      <td>Aquatics</td>\n",
              "      <td>Diving</td>\n",
              "      <td>GOODWIN, Leo Budd</td>\n",
              "      <td>USA</td>\n",
              "      <td>Men</td>\n",
              "      <td>Plunge For Distance</td>\n",
              "      <td>Bronze</td>\n",
              "    </tr>\n",
              "    <tr>\n",
              "      <th>...</th>\n",
              "      <th>...</th>\n",
              "      <td>...</td>\n",
              "      <td>...</td>\n",
              "      <td>...</td>\n",
              "      <td>...</td>\n",
              "      <td>...</td>\n",
              "      <td>...</td>\n",
              "      <td>...</td>\n",
              "      <td>...</td>\n",
              "      <td>...</td>\n",
              "    </tr>\n",
              "    <tr>\n",
              "      <th rowspan=\"5\" valign=\"top\">12</th>\n",
              "      <th>2817</th>\n",
              "      <td>1912</td>\n",
              "      <td>Stockholm</td>\n",
              "      <td>Wrestling</td>\n",
              "      <td>Wrestling Gre-R</td>\n",
              "      <td>JOHANSSON, Claes</td>\n",
              "      <td>SWE</td>\n",
              "      <td>Men</td>\n",
              "      <td>67.5 - 75KG (Middleweight)</td>\n",
              "      <td>Gold</td>\n",
              "    </tr>\n",
              "    <tr>\n",
              "      <th>2818</th>\n",
              "      <td>1912</td>\n",
              "      <td>Stockholm</td>\n",
              "      <td>Wrestling</td>\n",
              "      <td>Wrestling Gre-R</td>\n",
              "      <td>KLEIN, Martin</td>\n",
              "      <td>RU1</td>\n",
              "      <td>Men</td>\n",
              "      <td>67.5 - 75KG (Middleweight)</td>\n",
              "      <td>Silver</td>\n",
              "    </tr>\n",
              "    <tr>\n",
              "      <th>2819</th>\n",
              "      <td>1912</td>\n",
              "      <td>Stockholm</td>\n",
              "      <td>Wrestling</td>\n",
              "      <td>Wrestling Gre-R</td>\n",
              "      <td>VARGA, Béla</td>\n",
              "      <td>HUN</td>\n",
              "      <td>Men</td>\n",
              "      <td>75 - 82.5KG (Light-Heavyweight)</td>\n",
              "      <td>Bronze</td>\n",
              "    </tr>\n",
              "    <tr>\n",
              "      <th>2820</th>\n",
              "      <td>1912</td>\n",
              "      <td>Stockholm</td>\n",
              "      <td>Wrestling</td>\n",
              "      <td>Wrestling Gre-R</td>\n",
              "      <td>AHLGREN, Anders</td>\n",
              "      <td>SWE</td>\n",
              "      <td>Men</td>\n",
              "      <td>75 - 82.5KG (Light-Heavyweight)</td>\n",
              "      <td>Silver</td>\n",
              "    </tr>\n",
              "    <tr>\n",
              "      <th>2821</th>\n",
              "      <td>1912</td>\n",
              "      <td>Stockholm</td>\n",
              "      <td>Wrestling</td>\n",
              "      <td>Wrestling Gre-R</td>\n",
              "      <td>BÖHLING, Ivar Theodor</td>\n",
              "      <td>FIN</td>\n",
              "      <td>Men</td>\n",
              "      <td>75 - 82.5KG (Light-Heavyweight)</td>\n",
              "      <td>Silver</td>\n",
              "    </tr>\n",
              "  </tbody>\n",
              "</table>\n",
              "<p>2159 rows × 9 columns</p>\n",
              "</div>"
            ],
            "text/plain": [
              "                     Year       City  ...                            Event   Medal\n",
              "year_group og_index                   ...                                         \n",
              "04         663       1904   St Louis  ...                     10M Platform  Bronze\n",
              "           664       1904   St Louis  ...                     10M Platform  Bronze\n",
              "           665       1904   St Louis  ...                     10M Platform    Gold\n",
              "           666       1904   St Louis  ...                     10M Platform  Silver\n",
              "           667       1904   St Louis  ...              Plunge For Distance  Bronze\n",
              "...                   ...        ...  ...                              ...     ...\n",
              "12         2817      1912  Stockholm  ...       67.5 - 75KG (Middleweight)    Gold\n",
              "           2818      1912  Stockholm  ...       67.5 - 75KG (Middleweight)  Silver\n",
              "           2819      1912  Stockholm  ...  75 - 82.5KG (Light-Heavyweight)  Bronze\n",
              "           2820      1912  Stockholm  ...  75 - 82.5KG (Light-Heavyweight)  Silver\n",
              "           2821      1912  Stockholm  ...  75 - 82.5KG (Light-Heavyweight)  Silver\n",
              "\n",
              "[2159 rows x 9 columns]"
            ]
          },
          "metadata": {
            "tags": []
          },
          "execution_count": 26
        }
      ]
    },
    {
      "cell_type": "code",
      "metadata": {
        "id": "Q7np49gzMwce"
      },
      "source": [
        ""
      ],
      "execution_count": null,
      "outputs": []
    }
  ]
}