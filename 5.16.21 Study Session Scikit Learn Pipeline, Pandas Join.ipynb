{
  "nbformat": 4,
  "nbformat_minor": 0,
  "metadata": {
    "colab": {
      "name": "practice_stuff.ipynb",
      "provenance": [],
      "collapsed_sections": []
    },
    "kernelspec": {
      "name": "python3",
      "display_name": "Python 3"
    },
    "language_info": {
      "name": "python"
    }
  },
  "cells": [
    {
      "cell_type": "markdown",
      "metadata": {
        "id": "cpPBxsgFiVY9"
      },
      "source": [
        "# First Principles Thinking\n",
        "\n",
        "* Step 1: Identify any assumptions that you may have (batteries are $600/KwH - they're too expensive)\n",
        "* Step 2: Breakdown the issues (the fundamentals - what materials go into a battery? Can I find them for cheap?)\n",
        "* Step 3: Create new solutions (use your fundamental analysis and knowledge to create a solution)\n",
        "\n",
        "https://www.youtube.com/watch?v=NV3sBlRgzTI"
      ]
    },
    {
      "cell_type": "markdown",
      "metadata": {
        "id": "mbElq6ieBAVY"
      },
      "source": [
        "```\n",
        "bins=[0, 13, 19, 61, sys.maxsize]\n",
        "labels=['<12', 'Teen', 'Adult', 'Older']\n",
        "(\n",
        "  pd.read_csv('data/train.csv')\n",
        "    .pipe(replace_age_na, pclass_age_map)\n",
        "    .query('Embarked == \"S\"')\n",
        "    .assign(ageGroup = lambda df: pd.cut(df['Age'], bins=bins, labels=labels))\n",
        "    .pivot_table(\n",
        "        values='Survived', \n",
        "        columns='Pclass', \n",
        "        index='ageGroup', \n",
        "        aggfunc='mean')\n",
        "    .rename_axis('', axis='columns')\n",
        "    .rename('Class {}'.format, axis='columns')\n",
        "    .style.format('{:.2%}')\n",
        ")\n",
        "\n",
        "```\n",
        "\n"
      ]
    },
    {
      "cell_type": "code",
      "metadata": {
        "colab": {
          "base_uri": "https://localhost:8080/"
        },
        "id": "bzF2uTou_oer",
        "outputId": "20d8f9ae-47e6-44e7-8e27-c23cec350de1"
      },
      "source": [
        "from google.colab import drive\n",
        "drive.mount('/content/drive')"
      ],
      "execution_count": 70,
      "outputs": [
        {
          "output_type": "stream",
          "text": [
            "Drive already mounted at /content/drive; to attempt to forcibly remount, call drive.mount(\"/content/drive\", force_remount=True).\n"
          ],
          "name": "stdout"
        }
      ]
    },
    {
      "cell_type": "code",
      "metadata": {
        "colab": {
          "base_uri": "https://localhost:8080/"
        },
        "id": "seRBsF-O_-wx",
        "outputId": "c1d4473f-147e-422f-9284-d6019cb922c0"
      },
      "source": [
        "%cd '/content/drive/My Drive/Kaggle'"
      ],
      "execution_count": 71,
      "outputs": [
        {
          "output_type": "stream",
          "text": [
            "/content/drive/My Drive/Kaggle\n"
          ],
          "name": "stdout"
        }
      ]
    },
    {
      "cell_type": "code",
      "metadata": {
        "colab": {
          "base_uri": "https://localhost:8080/"
        },
        "id": "-QYov5IUe4b-",
        "outputId": "78e4e425-8868-40c9-b922-d7da16865f88"
      },
      "source": [
        "# EDA\n",
        "import pandas as pd\n",
        "import numpy as np\n",
        "import matplotlib.pyplot as plt\n",
        "import seaborn as sns\n",
        "\n",
        "# Metrics\n",
        "# y_true / y_pred\n",
        "from sklearn.metrics import accuracy_score, recall_score, precision_recall_curve\n",
        "from sklearn.metrics import f1_score, classification_report, confusion_matrix \n",
        "from sklearn.metrics import roc_auc_score, roc_curve\n",
        "\n",
        "from sklearn.model_selection import train_test_split, cross_val_score\n",
        "from sklearn.model_selection import RandomizedSearchCV, GridSearchCV\n",
        "\n",
        "# Preprocessing SKLearn\n",
        "from sklearn.compose import ColumnTransformer\n",
        "from sklearn.preprocessing import OneHotEncoder\n",
        "from sklearn.impute import SimpleImputer\n",
        "from sklearn.pipeline import Pipeline\n",
        "\n",
        "# Model(s)\n",
        "from sklearn.ensemble import RandomForestClassifier\n",
        "from sklearn.linear_model import LogisticRegression\n",
        "from sklearn.neighbors import KNeighborsClassifier\n",
        "from sklearn.svm import LinearSVC, SVC\n",
        "\n",
        "# Import the data \n",
        "df = pd.read_csv('titanic_train.csv')\n",
        "df_copy = df.copy()\n",
        "\n",
        "len(df), len(df_copy)"
      ],
      "execution_count": 72,
      "outputs": [
        {
          "output_type": "execute_result",
          "data": {
            "text/plain": [
              "(850, 850)"
            ]
          },
          "metadata": {
            "tags": []
          },
          "execution_count": 72
        }
      ]
    },
    {
      "cell_type": "markdown",
      "metadata": {
        "id": "L5feOLy2qzst"
      },
      "source": [
        "# Pandas"
      ]
    },
    {
      "cell_type": "code",
      "metadata": {
        "colab": {
          "base_uri": "https://localhost:8080/"
        },
        "id": "QRFEvzh8jzIO",
        "outputId": "1c2ab67b-ae27-4a86-ffad-fbf4fc7c2f28"
      },
      "source": [
        "df.isna().sum()"
      ],
      "execution_count": 73,
      "outputs": [
        {
          "output_type": "execute_result",
          "data": {
            "text/plain": [
              "passenger_id      0\n",
              "pclass            0\n",
              "name              0\n",
              "sex               0\n",
              "age             174\n",
              "sibsp             0\n",
              "parch             0\n",
              "ticket            0\n",
              "fare              1\n",
              "cabin           659\n",
              "embarked          1\n",
              "boat            542\n",
              "body            777\n",
              "home.dest       386\n",
              "survived          0\n",
              "dtype: int64"
            ]
          },
          "metadata": {
            "tags": []
          },
          "execution_count": 73
        }
      ]
    },
    {
      "cell_type": "code",
      "metadata": {
        "colab": {
          "base_uri": "https://localhost:8080/"
        },
        "id": "HRPzLNwgkL2m",
        "outputId": "7cbb2e4e-8a6e-4d7b-e228-dda23b4c324e"
      },
      "source": [
        "df.drop(['cabin','boat','body','home.dest'], axis=1, inplace=True)\n",
        "df.isna().sum()"
      ],
      "execution_count": 74,
      "outputs": [
        {
          "output_type": "execute_result",
          "data": {
            "text/plain": [
              "passenger_id      0\n",
              "pclass            0\n",
              "name              0\n",
              "sex               0\n",
              "age             174\n",
              "sibsp             0\n",
              "parch             0\n",
              "ticket            0\n",
              "fare              1\n",
              "embarked          1\n",
              "survived          0\n",
              "dtype: int64"
            ]
          },
          "metadata": {
            "tags": []
          },
          "execution_count": 74
        }
      ]
    },
    {
      "cell_type": "code",
      "metadata": {
        "id": "T0VLI6uxkYwF"
      },
      "source": [
        "df_copy = df.copy()"
      ],
      "execution_count": 75,
      "outputs": []
    },
    {
      "cell_type": "code",
      "metadata": {
        "colab": {
          "base_uri": "https://localhost:8080/"
        },
        "id": "TRsa-J2ukhQV",
        "outputId": "332e1d51-bbc0-4a8d-f885-3390b75fd41b"
      },
      "source": [
        "df_copy.columns"
      ],
      "execution_count": 76,
      "outputs": [
        {
          "output_type": "execute_result",
          "data": {
            "text/plain": [
              "Index(['passenger_id', 'pclass', 'name', 'sex', 'age', 'sibsp', 'parch',\n",
              "       'ticket', 'fare', 'embarked', 'survived'],\n",
              "      dtype='object')"
            ]
          },
          "metadata": {
            "tags": []
          },
          "execution_count": 76
        }
      ]
    },
    {
      "cell_type": "code",
      "metadata": {
        "colab": {
          "base_uri": "https://localhost:8080/",
          "height": 232
        },
        "id": "4V6uumc1kigI",
        "outputId": "9d39e343-8951-47e1-d5cf-6be1c3ec8c6e"
      },
      "source": [
        "# df = Sklearn for preprocessing (Model)\n",
        "# df_copy = Pandas for preprocessing\n",
        "\n",
        "df_copy_2 = df_copy.copy()\n",
        "df_copy.head()"
      ],
      "execution_count": 77,
      "outputs": [
        {
          "output_type": "execute_result",
          "data": {
            "text/html": [
              "<div>\n",
              "<style scoped>\n",
              "    .dataframe tbody tr th:only-of-type {\n",
              "        vertical-align: middle;\n",
              "    }\n",
              "\n",
              "    .dataframe tbody tr th {\n",
              "        vertical-align: top;\n",
              "    }\n",
              "\n",
              "    .dataframe thead th {\n",
              "        text-align: right;\n",
              "    }\n",
              "</style>\n",
              "<table border=\"1\" class=\"dataframe\">\n",
              "  <thead>\n",
              "    <tr style=\"text-align: right;\">\n",
              "      <th></th>\n",
              "      <th>passenger_id</th>\n",
              "      <th>pclass</th>\n",
              "      <th>name</th>\n",
              "      <th>sex</th>\n",
              "      <th>age</th>\n",
              "      <th>sibsp</th>\n",
              "      <th>parch</th>\n",
              "      <th>ticket</th>\n",
              "      <th>fare</th>\n",
              "      <th>embarked</th>\n",
              "      <th>survived</th>\n",
              "    </tr>\n",
              "  </thead>\n",
              "  <tbody>\n",
              "    <tr>\n",
              "      <th>0</th>\n",
              "      <td>1216</td>\n",
              "      <td>3</td>\n",
              "      <td>Smyth, Miss. Julia</td>\n",
              "      <td>female</td>\n",
              "      <td>NaN</td>\n",
              "      <td>0</td>\n",
              "      <td>0</td>\n",
              "      <td>335432</td>\n",
              "      <td>7.7333</td>\n",
              "      <td>Q</td>\n",
              "      <td>1</td>\n",
              "    </tr>\n",
              "    <tr>\n",
              "      <th>1</th>\n",
              "      <td>699</td>\n",
              "      <td>3</td>\n",
              "      <td>Cacic, Mr. Luka</td>\n",
              "      <td>male</td>\n",
              "      <td>38.0</td>\n",
              "      <td>0</td>\n",
              "      <td>0</td>\n",
              "      <td>315089</td>\n",
              "      <td>8.6625</td>\n",
              "      <td>S</td>\n",
              "      <td>0</td>\n",
              "    </tr>\n",
              "    <tr>\n",
              "      <th>2</th>\n",
              "      <td>1267</td>\n",
              "      <td>3</td>\n",
              "      <td>Van Impe, Mrs. Jean Baptiste (Rosalie Paula Go...</td>\n",
              "      <td>female</td>\n",
              "      <td>30.0</td>\n",
              "      <td>1</td>\n",
              "      <td>1</td>\n",
              "      <td>345773</td>\n",
              "      <td>24.1500</td>\n",
              "      <td>S</td>\n",
              "      <td>0</td>\n",
              "    </tr>\n",
              "    <tr>\n",
              "      <th>3</th>\n",
              "      <td>449</td>\n",
              "      <td>2</td>\n",
              "      <td>Hocking, Mrs. Elizabeth (Eliza Needs)</td>\n",
              "      <td>female</td>\n",
              "      <td>54.0</td>\n",
              "      <td>1</td>\n",
              "      <td>3</td>\n",
              "      <td>29105</td>\n",
              "      <td>23.0000</td>\n",
              "      <td>S</td>\n",
              "      <td>1</td>\n",
              "    </tr>\n",
              "    <tr>\n",
              "      <th>4</th>\n",
              "      <td>576</td>\n",
              "      <td>2</td>\n",
              "      <td>Veal, Mr. James</td>\n",
              "      <td>male</td>\n",
              "      <td>40.0</td>\n",
              "      <td>0</td>\n",
              "      <td>0</td>\n",
              "      <td>28221</td>\n",
              "      <td>13.0000</td>\n",
              "      <td>S</td>\n",
              "      <td>0</td>\n",
              "    </tr>\n",
              "  </tbody>\n",
              "</table>\n",
              "</div>"
            ],
            "text/plain": [
              "   passenger_id  pclass  ... embarked survived\n",
              "0          1216       3  ...        Q        1\n",
              "1           699       3  ...        S        0\n",
              "2          1267       3  ...        S        0\n",
              "3           449       2  ...        S        1\n",
              "4           576       2  ...        S        0\n",
              "\n",
              "[5 rows x 11 columns]"
            ]
          },
          "metadata": {
            "tags": []
          },
          "execution_count": 77
        }
      ]
    },
    {
      "cell_type": "code",
      "metadata": {
        "colab": {
          "base_uri": "https://localhost:8080/"
        },
        "id": "VKg3yuF9lHup",
        "outputId": "cb44528f-c1be-4ccf-e8d5-ad3388f1dcf3"
      },
      "source": [
        "len(df_copy.passenger_id.unique())"
      ],
      "execution_count": 78,
      "outputs": [
        {
          "output_type": "execute_result",
          "data": {
            "text/plain": [
              "850"
            ]
          },
          "metadata": {
            "tags": []
          },
          "execution_count": 78
        }
      ]
    },
    {
      "cell_type": "code",
      "metadata": {
        "colab": {
          "base_uri": "https://localhost:8080/"
        },
        "id": "sQkwc1XAlTPo",
        "outputId": "a9e507fb-b048-4ddb-ca28-3b984fe22b82"
      },
      "source": [
        "df_copy.passenger_id.nunique()"
      ],
      "execution_count": 79,
      "outputs": [
        {
          "output_type": "execute_result",
          "data": {
            "text/plain": [
              "850"
            ]
          },
          "metadata": {
            "tags": []
          },
          "execution_count": 79
        }
      ]
    },
    {
      "cell_type": "code",
      "metadata": {
        "colab": {
          "base_uri": "https://localhost:8080/"
        },
        "id": "Als8ZY4vlcH8",
        "outputId": "cb03786d-0f30-4bec-aa36-67e79d56aa8e"
      },
      "source": [
        "len(df_copy)"
      ],
      "execution_count": 80,
      "outputs": [
        {
          "output_type": "execute_result",
          "data": {
            "text/plain": [
              "850"
            ]
          },
          "metadata": {
            "tags": []
          },
          "execution_count": 80
        }
      ]
    },
    {
      "cell_type": "code",
      "metadata": {
        "colab": {
          "base_uri": "https://localhost:8080/",
          "height": 377
        },
        "id": "r0v6Bkrylg5H",
        "outputId": "6cb18bd5-107d-4b1e-b9ef-ee560765ccc0"
      },
      "source": [
        "df_copy.join(df_copy_2, on='passenger_id')"
      ],
      "execution_count": 81,
      "outputs": [
        {
          "output_type": "error",
          "ename": "ValueError",
          "evalue": "ignored",
          "traceback": [
            "\u001b[0;31m---------------------------------------------------------------------------\u001b[0m",
            "\u001b[0;31mValueError\u001b[0m                                Traceback (most recent call last)",
            "\u001b[0;32m<ipython-input-81-c2c6df1d2951>\u001b[0m in \u001b[0;36m<module>\u001b[0;34m()\u001b[0m\n\u001b[0;32m----> 1\u001b[0;31m \u001b[0mdf_copy\u001b[0m\u001b[0;34m.\u001b[0m\u001b[0mjoin\u001b[0m\u001b[0;34m(\u001b[0m\u001b[0mdf_copy_2\u001b[0m\u001b[0;34m,\u001b[0m \u001b[0mon\u001b[0m\u001b[0;34m=\u001b[0m\u001b[0;34m'passenger_id'\u001b[0m\u001b[0;34m)\u001b[0m\u001b[0;34m\u001b[0m\u001b[0;34m\u001b[0m\u001b[0m\n\u001b[0m",
            "\u001b[0;32m/usr/local/lib/python3.7/dist-packages/pandas/core/frame.py\u001b[0m in \u001b[0;36mjoin\u001b[0;34m(self, other, on, how, lsuffix, rsuffix, sort)\u001b[0m\n\u001b[1;32m   7873\u001b[0m         \"\"\"\n\u001b[1;32m   7874\u001b[0m         return self._join_compat(\n\u001b[0;32m-> 7875\u001b[0;31m             \u001b[0mother\u001b[0m\u001b[0;34m,\u001b[0m \u001b[0mon\u001b[0m\u001b[0;34m=\u001b[0m\u001b[0mon\u001b[0m\u001b[0;34m,\u001b[0m \u001b[0mhow\u001b[0m\u001b[0;34m=\u001b[0m\u001b[0mhow\u001b[0m\u001b[0;34m,\u001b[0m \u001b[0mlsuffix\u001b[0m\u001b[0;34m=\u001b[0m\u001b[0mlsuffix\u001b[0m\u001b[0;34m,\u001b[0m \u001b[0mrsuffix\u001b[0m\u001b[0;34m=\u001b[0m\u001b[0mrsuffix\u001b[0m\u001b[0;34m,\u001b[0m \u001b[0msort\u001b[0m\u001b[0;34m=\u001b[0m\u001b[0msort\u001b[0m\u001b[0;34m\u001b[0m\u001b[0;34m\u001b[0m\u001b[0m\n\u001b[0m\u001b[1;32m   7876\u001b[0m         )\n\u001b[1;32m   7877\u001b[0m \u001b[0;34m\u001b[0m\u001b[0m\n",
            "\u001b[0;32m/usr/local/lib/python3.7/dist-packages/pandas/core/frame.py\u001b[0m in \u001b[0;36m_join_compat\u001b[0;34m(self, other, on, how, lsuffix, rsuffix, sort)\u001b[0m\n\u001b[1;32m   7896\u001b[0m                 \u001b[0mright_index\u001b[0m\u001b[0;34m=\u001b[0m\u001b[0;32mTrue\u001b[0m\u001b[0;34m,\u001b[0m\u001b[0;34m\u001b[0m\u001b[0;34m\u001b[0m\u001b[0m\n\u001b[1;32m   7897\u001b[0m                 \u001b[0msuffixes\u001b[0m\u001b[0;34m=\u001b[0m\u001b[0;34m(\u001b[0m\u001b[0mlsuffix\u001b[0m\u001b[0;34m,\u001b[0m \u001b[0mrsuffix\u001b[0m\u001b[0;34m)\u001b[0m\u001b[0;34m,\u001b[0m\u001b[0;34m\u001b[0m\u001b[0;34m\u001b[0m\u001b[0m\n\u001b[0;32m-> 7898\u001b[0;31m                 \u001b[0msort\u001b[0m\u001b[0;34m=\u001b[0m\u001b[0msort\u001b[0m\u001b[0;34m,\u001b[0m\u001b[0;34m\u001b[0m\u001b[0;34m\u001b[0m\u001b[0m\n\u001b[0m\u001b[1;32m   7899\u001b[0m             )\n\u001b[1;32m   7900\u001b[0m         \u001b[0;32melse\u001b[0m\u001b[0;34m:\u001b[0m\u001b[0;34m\u001b[0m\u001b[0;34m\u001b[0m\u001b[0m\n",
            "\u001b[0;32m/usr/local/lib/python3.7/dist-packages/pandas/core/reshape/merge.py\u001b[0m in \u001b[0;36mmerge\u001b[0;34m(left, right, how, on, left_on, right_on, left_index, right_index, sort, suffixes, copy, indicator, validate)\u001b[0m\n\u001b[1;32m     87\u001b[0m         \u001b[0mvalidate\u001b[0m\u001b[0;34m=\u001b[0m\u001b[0mvalidate\u001b[0m\u001b[0;34m,\u001b[0m\u001b[0;34m\u001b[0m\u001b[0;34m\u001b[0m\u001b[0m\n\u001b[1;32m     88\u001b[0m     )\n\u001b[0;32m---> 89\u001b[0;31m     \u001b[0;32mreturn\u001b[0m \u001b[0mop\u001b[0m\u001b[0;34m.\u001b[0m\u001b[0mget_result\u001b[0m\u001b[0;34m(\u001b[0m\u001b[0;34m)\u001b[0m\u001b[0;34m\u001b[0m\u001b[0;34m\u001b[0m\u001b[0m\n\u001b[0m\u001b[1;32m     90\u001b[0m \u001b[0;34m\u001b[0m\u001b[0m\n\u001b[1;32m     91\u001b[0m \u001b[0;34m\u001b[0m\u001b[0m\n",
            "\u001b[0;32m/usr/local/lib/python3.7/dist-packages/pandas/core/reshape/merge.py\u001b[0m in \u001b[0;36mget_result\u001b[0;34m(self)\u001b[0m\n\u001b[1;32m    669\u001b[0m \u001b[0;34m\u001b[0m\u001b[0m\n\u001b[1;32m    670\u001b[0m         llabels, rlabels = _items_overlap_with_suffix(\n\u001b[0;32m--> 671\u001b[0;31m             \u001b[0mself\u001b[0m\u001b[0;34m.\u001b[0m\u001b[0mleft\u001b[0m\u001b[0;34m.\u001b[0m\u001b[0m_info_axis\u001b[0m\u001b[0;34m,\u001b[0m \u001b[0mself\u001b[0m\u001b[0;34m.\u001b[0m\u001b[0mright\u001b[0m\u001b[0;34m.\u001b[0m\u001b[0m_info_axis\u001b[0m\u001b[0;34m,\u001b[0m \u001b[0mself\u001b[0m\u001b[0;34m.\u001b[0m\u001b[0msuffixes\u001b[0m\u001b[0;34m\u001b[0m\u001b[0;34m\u001b[0m\u001b[0m\n\u001b[0m\u001b[1;32m    672\u001b[0m         )\n\u001b[1;32m    673\u001b[0m \u001b[0;34m\u001b[0m\u001b[0m\n",
            "\u001b[0;32m/usr/local/lib/python3.7/dist-packages/pandas/core/reshape/merge.py\u001b[0m in \u001b[0;36m_items_overlap_with_suffix\u001b[0;34m(left, right, suffixes)\u001b[0m\n\u001b[1;32m   2094\u001b[0m \u001b[0;34m\u001b[0m\u001b[0m\n\u001b[1;32m   2095\u001b[0m     \u001b[0;32mif\u001b[0m \u001b[0;32mnot\u001b[0m \u001b[0mlsuffix\u001b[0m \u001b[0;32mand\u001b[0m \u001b[0;32mnot\u001b[0m \u001b[0mrsuffix\u001b[0m\u001b[0;34m:\u001b[0m\u001b[0;34m\u001b[0m\u001b[0;34m\u001b[0m\u001b[0m\n\u001b[0;32m-> 2096\u001b[0;31m         \u001b[0;32mraise\u001b[0m \u001b[0mValueError\u001b[0m\u001b[0;34m(\u001b[0m\u001b[0;34mf\"columns overlap but no suffix specified: {to_rename}\"\u001b[0m\u001b[0;34m)\u001b[0m\u001b[0;34m\u001b[0m\u001b[0;34m\u001b[0m\u001b[0m\n\u001b[0m\u001b[1;32m   2097\u001b[0m \u001b[0;34m\u001b[0m\u001b[0m\n\u001b[1;32m   2098\u001b[0m     \u001b[0;32mdef\u001b[0m \u001b[0mrenamer\u001b[0m\u001b[0;34m(\u001b[0m\u001b[0mx\u001b[0m\u001b[0;34m,\u001b[0m \u001b[0msuffix\u001b[0m\u001b[0;34m)\u001b[0m\u001b[0;34m:\u001b[0m\u001b[0;34m\u001b[0m\u001b[0;34m\u001b[0m\u001b[0m\n",
            "\u001b[0;31mValueError\u001b[0m: columns overlap but no suffix specified: Index(['passenger_id', 'pclass', 'name', 'sex', 'age', 'sibsp', 'parch',\n       'ticket', 'fare', 'embarked', 'survived'],\n      dtype='object')"
          ]
        }
      ]
    },
    {
      "cell_type": "code",
      "metadata": {
        "id": "u3Ix6rGcl2DN"
      },
      "source": [
        "df_copy_2.rename({'passenger_id':'id', 'pclass':'class', 'name':'p_name', \n",
        "            'sex':'gender', 'age':'p_age', 'sibsp':'siblings', 'parch':'parents',\n",
        "             'ticket':'p_ticket', 'fare':'p_fare', 'embarked':'p_embarked', 'survived':'p_survived'}\n",
        "             , axis='columns', inplace=True)"
      ],
      "execution_count": 82,
      "outputs": []
    },
    {
      "cell_type": "code",
      "metadata": {
        "colab": {
          "base_uri": "https://localhost:8080/"
        },
        "id": "Lo9WNTmFm2Ms",
        "outputId": "b4828f4d-4fcb-4c94-eb5a-e1e71312b006"
      },
      "source": [
        "df_copy_2.columns"
      ],
      "execution_count": 83,
      "outputs": [
        {
          "output_type": "execute_result",
          "data": {
            "text/plain": [
              "Index(['id', 'class', 'p_name', 'gender', 'p_age', 'siblings', 'parents',\n",
              "       'p_ticket', 'p_fare', 'p_embarked', 'p_survived'],\n",
              "      dtype='object')"
            ]
          },
          "metadata": {
            "tags": []
          },
          "execution_count": 83
        }
      ]
    },
    {
      "cell_type": "code",
      "metadata": {
        "colab": {
          "base_uri": "https://localhost:8080/",
          "height": 475
        },
        "id": "c4elAW6Lm5KL",
        "outputId": "efc27cb7-7f16-416d-ec48-0ca668b60535"
      },
      "source": [
        "df_copy = df_copy.join(df_copy_2, how='left', lsuffix='passenger_id', rsuffix='id')\n",
        "df_copy.head()"
      ],
      "execution_count": 84,
      "outputs": [
        {
          "output_type": "execute_result",
          "data": {
            "text/html": [
              "<div>\n",
              "<style scoped>\n",
              "    .dataframe tbody tr th:only-of-type {\n",
              "        vertical-align: middle;\n",
              "    }\n",
              "\n",
              "    .dataframe tbody tr th {\n",
              "        vertical-align: top;\n",
              "    }\n",
              "\n",
              "    .dataframe thead th {\n",
              "        text-align: right;\n",
              "    }\n",
              "</style>\n",
              "<table border=\"1\" class=\"dataframe\">\n",
              "  <thead>\n",
              "    <tr style=\"text-align: right;\">\n",
              "      <th></th>\n",
              "      <th>passenger_id</th>\n",
              "      <th>pclass</th>\n",
              "      <th>name</th>\n",
              "      <th>sex</th>\n",
              "      <th>age</th>\n",
              "      <th>sibsp</th>\n",
              "      <th>parch</th>\n",
              "      <th>ticket</th>\n",
              "      <th>fare</th>\n",
              "      <th>embarked</th>\n",
              "      <th>survived</th>\n",
              "      <th>id</th>\n",
              "      <th>class</th>\n",
              "      <th>p_name</th>\n",
              "      <th>gender</th>\n",
              "      <th>p_age</th>\n",
              "      <th>siblings</th>\n",
              "      <th>parents</th>\n",
              "      <th>p_ticket</th>\n",
              "      <th>p_fare</th>\n",
              "      <th>p_embarked</th>\n",
              "      <th>p_survived</th>\n",
              "    </tr>\n",
              "  </thead>\n",
              "  <tbody>\n",
              "    <tr>\n",
              "      <th>0</th>\n",
              "      <td>1216</td>\n",
              "      <td>3</td>\n",
              "      <td>Smyth, Miss. Julia</td>\n",
              "      <td>female</td>\n",
              "      <td>NaN</td>\n",
              "      <td>0</td>\n",
              "      <td>0</td>\n",
              "      <td>335432</td>\n",
              "      <td>7.7333</td>\n",
              "      <td>Q</td>\n",
              "      <td>1</td>\n",
              "      <td>1216</td>\n",
              "      <td>3</td>\n",
              "      <td>Smyth, Miss. Julia</td>\n",
              "      <td>female</td>\n",
              "      <td>NaN</td>\n",
              "      <td>0</td>\n",
              "      <td>0</td>\n",
              "      <td>335432</td>\n",
              "      <td>7.7333</td>\n",
              "      <td>Q</td>\n",
              "      <td>1</td>\n",
              "    </tr>\n",
              "    <tr>\n",
              "      <th>1</th>\n",
              "      <td>699</td>\n",
              "      <td>3</td>\n",
              "      <td>Cacic, Mr. Luka</td>\n",
              "      <td>male</td>\n",
              "      <td>38.0</td>\n",
              "      <td>0</td>\n",
              "      <td>0</td>\n",
              "      <td>315089</td>\n",
              "      <td>8.6625</td>\n",
              "      <td>S</td>\n",
              "      <td>0</td>\n",
              "      <td>699</td>\n",
              "      <td>3</td>\n",
              "      <td>Cacic, Mr. Luka</td>\n",
              "      <td>male</td>\n",
              "      <td>38.0</td>\n",
              "      <td>0</td>\n",
              "      <td>0</td>\n",
              "      <td>315089</td>\n",
              "      <td>8.6625</td>\n",
              "      <td>S</td>\n",
              "      <td>0</td>\n",
              "    </tr>\n",
              "    <tr>\n",
              "      <th>2</th>\n",
              "      <td>1267</td>\n",
              "      <td>3</td>\n",
              "      <td>Van Impe, Mrs. Jean Baptiste (Rosalie Paula Go...</td>\n",
              "      <td>female</td>\n",
              "      <td>30.0</td>\n",
              "      <td>1</td>\n",
              "      <td>1</td>\n",
              "      <td>345773</td>\n",
              "      <td>24.1500</td>\n",
              "      <td>S</td>\n",
              "      <td>0</td>\n",
              "      <td>1267</td>\n",
              "      <td>3</td>\n",
              "      <td>Van Impe, Mrs. Jean Baptiste (Rosalie Paula Go...</td>\n",
              "      <td>female</td>\n",
              "      <td>30.0</td>\n",
              "      <td>1</td>\n",
              "      <td>1</td>\n",
              "      <td>345773</td>\n",
              "      <td>24.1500</td>\n",
              "      <td>S</td>\n",
              "      <td>0</td>\n",
              "    </tr>\n",
              "    <tr>\n",
              "      <th>3</th>\n",
              "      <td>449</td>\n",
              "      <td>2</td>\n",
              "      <td>Hocking, Mrs. Elizabeth (Eliza Needs)</td>\n",
              "      <td>female</td>\n",
              "      <td>54.0</td>\n",
              "      <td>1</td>\n",
              "      <td>3</td>\n",
              "      <td>29105</td>\n",
              "      <td>23.0000</td>\n",
              "      <td>S</td>\n",
              "      <td>1</td>\n",
              "      <td>449</td>\n",
              "      <td>2</td>\n",
              "      <td>Hocking, Mrs. Elizabeth (Eliza Needs)</td>\n",
              "      <td>female</td>\n",
              "      <td>54.0</td>\n",
              "      <td>1</td>\n",
              "      <td>3</td>\n",
              "      <td>29105</td>\n",
              "      <td>23.0000</td>\n",
              "      <td>S</td>\n",
              "      <td>1</td>\n",
              "    </tr>\n",
              "    <tr>\n",
              "      <th>4</th>\n",
              "      <td>576</td>\n",
              "      <td>2</td>\n",
              "      <td>Veal, Mr. James</td>\n",
              "      <td>male</td>\n",
              "      <td>40.0</td>\n",
              "      <td>0</td>\n",
              "      <td>0</td>\n",
              "      <td>28221</td>\n",
              "      <td>13.0000</td>\n",
              "      <td>S</td>\n",
              "      <td>0</td>\n",
              "      <td>576</td>\n",
              "      <td>2</td>\n",
              "      <td>Veal, Mr. James</td>\n",
              "      <td>male</td>\n",
              "      <td>40.0</td>\n",
              "      <td>0</td>\n",
              "      <td>0</td>\n",
              "      <td>28221</td>\n",
              "      <td>13.0000</td>\n",
              "      <td>S</td>\n",
              "      <td>0</td>\n",
              "    </tr>\n",
              "  </tbody>\n",
              "</table>\n",
              "</div>"
            ],
            "text/plain": [
              "   passenger_id  pclass  ... p_embarked p_survived\n",
              "0          1216       3  ...          Q          1\n",
              "1           699       3  ...          S          0\n",
              "2          1267       3  ...          S          0\n",
              "3           449       2  ...          S          1\n",
              "4           576       2  ...          S          0\n",
              "\n",
              "[5 rows x 22 columns]"
            ]
          },
          "metadata": {
            "tags": []
          },
          "execution_count": 84
        }
      ]
    },
    {
      "cell_type": "code",
      "metadata": {
        "colab": {
          "base_uri": "https://localhost:8080/"
        },
        "id": "JqCgFkX_nQrF",
        "outputId": "7062518a-7575-429e-8417-baa889784a09"
      },
      "source": [
        "df_copy.columns"
      ],
      "execution_count": 85,
      "outputs": [
        {
          "output_type": "execute_result",
          "data": {
            "text/plain": [
              "Index(['passenger_id', 'pclass', 'name', 'sex', 'age', 'sibsp', 'parch',\n",
              "       'ticket', 'fare', 'embarked', 'survived', 'id', 'class', 'p_name',\n",
              "       'gender', 'p_age', 'siblings', 'parents', 'p_ticket', 'p_fare',\n",
              "       'p_embarked', 'p_survived'],\n",
              "      dtype='object')"
            ]
          },
          "metadata": {
            "tags": []
          },
          "execution_count": 85
        }
      ]
    },
    {
      "cell_type": "code",
      "metadata": {
        "colab": {
          "base_uri": "https://localhost:8080/"
        },
        "id": "kaL5x8muoHOs",
        "outputId": "0ff0d1ce-77d7-46fa-a0f7-335a12f38fe5"
      },
      "source": [
        "df_copy.isna().sum()"
      ],
      "execution_count": 86,
      "outputs": [
        {
          "output_type": "execute_result",
          "data": {
            "text/plain": [
              "passenger_id      0\n",
              "pclass            0\n",
              "name              0\n",
              "sex               0\n",
              "age             174\n",
              "sibsp             0\n",
              "parch             0\n",
              "ticket            0\n",
              "fare              1\n",
              "embarked          1\n",
              "survived          0\n",
              "id                0\n",
              "class             0\n",
              "p_name            0\n",
              "gender            0\n",
              "p_age           174\n",
              "siblings          0\n",
              "parents           0\n",
              "p_ticket          0\n",
              "p_fare            1\n",
              "p_embarked        1\n",
              "p_survived        0\n",
              "dtype: int64"
            ]
          },
          "metadata": {
            "tags": []
          },
          "execution_count": 86
        }
      ]
    },
    {
      "cell_type": "code",
      "metadata": {
        "colab": {
          "base_uri": "https://localhost:8080/"
        },
        "id": "OUzpXNy_oSOP",
        "outputId": "94b8eec7-b0a6-42b2-c2e4-f5ad19a84ed0"
      },
      "source": [
        "df_copy.age.fillna(value= df_copy.age.mean(), inplace=True)\n",
        "df_copy.fare.fillna(value= df_copy.fare.median(), inplace=True)\n",
        "df_copy.embarked.fillna(value='S', inplace=True)\n",
        "\n",
        "df_copy.p_age.fillna(value= df_copy.age.mean(), inplace=True)\n",
        "df_copy.p_fare.fillna(value= df_copy.fare.median(), inplace=True)\n",
        "df_copy.p_embarked.fillna(value='S', inplace=True)\n",
        "\n",
        "df_copy.isna().sum()"
      ],
      "execution_count": 87,
      "outputs": [
        {
          "output_type": "execute_result",
          "data": {
            "text/plain": [
              "passenger_id    0\n",
              "pclass          0\n",
              "name            0\n",
              "sex             0\n",
              "age             0\n",
              "sibsp           0\n",
              "parch           0\n",
              "ticket          0\n",
              "fare            0\n",
              "embarked        0\n",
              "survived        0\n",
              "id              0\n",
              "class           0\n",
              "p_name          0\n",
              "gender          0\n",
              "p_age           0\n",
              "siblings        0\n",
              "parents         0\n",
              "p_ticket        0\n",
              "p_fare          0\n",
              "p_embarked      0\n",
              "p_survived      0\n",
              "dtype: int64"
            ]
          },
          "metadata": {
            "tags": []
          },
          "execution_count": 87
        }
      ]
    },
    {
      "cell_type": "code",
      "metadata": {
        "colab": {
          "base_uri": "https://localhost:8080/"
        },
        "id": "q2B8jatwpKaJ",
        "outputId": "8c0fd8cd-907a-4df1-b664-15346b74a1c0"
      },
      "source": [
        "df_copy.dtypes"
      ],
      "execution_count": 88,
      "outputs": [
        {
          "output_type": "execute_result",
          "data": {
            "text/plain": [
              "passenger_id      int64\n",
              "pclass            int64\n",
              "name             object\n",
              "sex              object\n",
              "age             float64\n",
              "sibsp             int64\n",
              "parch             int64\n",
              "ticket           object\n",
              "fare            float64\n",
              "embarked         object\n",
              "survived          int64\n",
              "id                int64\n",
              "class             int64\n",
              "p_name           object\n",
              "gender           object\n",
              "p_age           float64\n",
              "siblings          int64\n",
              "parents           int64\n",
              "p_ticket         object\n",
              "p_fare          float64\n",
              "p_embarked       object\n",
              "p_survived        int64\n",
              "dtype: object"
            ]
          },
          "metadata": {
            "tags": []
          },
          "execution_count": 88
        }
      ]
    },
    {
      "cell_type": "code",
      "metadata": {
        "colab": {
          "base_uri": "https://localhost:8080/"
        },
        "id": "o6SyY5YApdwU",
        "outputId": "6c930d91-9875-4d57-949a-7204b648cc2e"
      },
      "source": [
        "df_copy.drop(['fare','p_fare','p_name','name'],axis=1,inplace=True)\n",
        "df_copy.columns"
      ],
      "execution_count": 89,
      "outputs": [
        {
          "output_type": "execute_result",
          "data": {
            "text/plain": [
              "Index(['passenger_id', 'pclass', 'sex', 'age', 'sibsp', 'parch', 'ticket',\n",
              "       'embarked', 'survived', 'id', 'class', 'gender', 'p_age', 'siblings',\n",
              "       'parents', 'p_ticket', 'p_embarked', 'p_survived'],\n",
              "      dtype='object')"
            ]
          },
          "metadata": {
            "tags": []
          },
          "execution_count": 89
        }
      ]
    },
    {
      "cell_type": "code",
      "metadata": {
        "colab": {
          "base_uri": "https://localhost:8080/",
          "height": 308
        },
        "id": "Aqeb5Zllp0Yc",
        "outputId": "90b3aa0a-a1d9-428e-a2c5-078b28024b4c"
      },
      "source": [
        "df_copy.describe()"
      ],
      "execution_count": 90,
      "outputs": [
        {
          "output_type": "execute_result",
          "data": {
            "text/html": [
              "<div>\n",
              "<style scoped>\n",
              "    .dataframe tbody tr th:only-of-type {\n",
              "        vertical-align: middle;\n",
              "    }\n",
              "\n",
              "    .dataframe tbody tr th {\n",
              "        vertical-align: top;\n",
              "    }\n",
              "\n",
              "    .dataframe thead th {\n",
              "        text-align: right;\n",
              "    }\n",
              "</style>\n",
              "<table border=\"1\" class=\"dataframe\">\n",
              "  <thead>\n",
              "    <tr style=\"text-align: right;\">\n",
              "      <th></th>\n",
              "      <th>passenger_id</th>\n",
              "      <th>pclass</th>\n",
              "      <th>age</th>\n",
              "      <th>sibsp</th>\n",
              "      <th>parch</th>\n",
              "      <th>survived</th>\n",
              "      <th>id</th>\n",
              "      <th>class</th>\n",
              "      <th>p_age</th>\n",
              "      <th>siblings</th>\n",
              "      <th>parents</th>\n",
              "      <th>p_survived</th>\n",
              "    </tr>\n",
              "  </thead>\n",
              "  <tbody>\n",
              "    <tr>\n",
              "      <th>count</th>\n",
              "      <td>850.000000</td>\n",
              "      <td>850.00000</td>\n",
              "      <td>850.000000</td>\n",
              "      <td>850.000000</td>\n",
              "      <td>850.000000</td>\n",
              "      <td>850.000000</td>\n",
              "      <td>850.000000</td>\n",
              "      <td>850.00000</td>\n",
              "      <td>850.000000</td>\n",
              "      <td>850.000000</td>\n",
              "      <td>850.000000</td>\n",
              "      <td>850.000000</td>\n",
              "    </tr>\n",
              "    <tr>\n",
              "      <th>mean</th>\n",
              "      <td>662.816471</td>\n",
              "      <td>2.32000</td>\n",
              "      <td>29.519847</td>\n",
              "      <td>0.522353</td>\n",
              "      <td>0.382353</td>\n",
              "      <td>0.368235</td>\n",
              "      <td>662.816471</td>\n",
              "      <td>2.32000</td>\n",
              "      <td>29.519847</td>\n",
              "      <td>0.522353</td>\n",
              "      <td>0.382353</td>\n",
              "      <td>0.368235</td>\n",
              "    </tr>\n",
              "    <tr>\n",
              "      <th>std</th>\n",
              "      <td>380.751936</td>\n",
              "      <td>0.83853</td>\n",
              "      <td>12.984533</td>\n",
              "      <td>1.112132</td>\n",
              "      <td>0.879511</td>\n",
              "      <td>0.482610</td>\n",
              "      <td>380.751936</td>\n",
              "      <td>0.83853</td>\n",
              "      <td>12.984533</td>\n",
              "      <td>1.112132</td>\n",
              "      <td>0.879511</td>\n",
              "      <td>0.482610</td>\n",
              "    </tr>\n",
              "    <tr>\n",
              "      <th>min</th>\n",
              "      <td>1.000000</td>\n",
              "      <td>1.00000</td>\n",
              "      <td>0.166700</td>\n",
              "      <td>0.000000</td>\n",
              "      <td>0.000000</td>\n",
              "      <td>0.000000</td>\n",
              "      <td>1.000000</td>\n",
              "      <td>1.00000</td>\n",
              "      <td>0.166700</td>\n",
              "      <td>0.000000</td>\n",
              "      <td>0.000000</td>\n",
              "      <td>0.000000</td>\n",
              "    </tr>\n",
              "    <tr>\n",
              "      <th>25%</th>\n",
              "      <td>332.250000</td>\n",
              "      <td>2.00000</td>\n",
              "      <td>22.000000</td>\n",
              "      <td>0.000000</td>\n",
              "      <td>0.000000</td>\n",
              "      <td>0.000000</td>\n",
              "      <td>332.250000</td>\n",
              "      <td>2.00000</td>\n",
              "      <td>22.000000</td>\n",
              "      <td>0.000000</td>\n",
              "      <td>0.000000</td>\n",
              "      <td>0.000000</td>\n",
              "    </tr>\n",
              "    <tr>\n",
              "      <th>50%</th>\n",
              "      <td>676.500000</td>\n",
              "      <td>3.00000</td>\n",
              "      <td>29.519847</td>\n",
              "      <td>0.000000</td>\n",
              "      <td>0.000000</td>\n",
              "      <td>0.000000</td>\n",
              "      <td>676.500000</td>\n",
              "      <td>3.00000</td>\n",
              "      <td>29.519847</td>\n",
              "      <td>0.000000</td>\n",
              "      <td>0.000000</td>\n",
              "      <td>0.000000</td>\n",
              "    </tr>\n",
              "    <tr>\n",
              "      <th>75%</th>\n",
              "      <td>992.250000</td>\n",
              "      <td>3.00000</td>\n",
              "      <td>34.875000</td>\n",
              "      <td>1.000000</td>\n",
              "      <td>0.000000</td>\n",
              "      <td>1.000000</td>\n",
              "      <td>992.250000</td>\n",
              "      <td>3.00000</td>\n",
              "      <td>34.875000</td>\n",
              "      <td>1.000000</td>\n",
              "      <td>0.000000</td>\n",
              "      <td>1.000000</td>\n",
              "    </tr>\n",
              "    <tr>\n",
              "      <th>max</th>\n",
              "      <td>1307.000000</td>\n",
              "      <td>3.00000</td>\n",
              "      <td>80.000000</td>\n",
              "      <td>8.000000</td>\n",
              "      <td>9.000000</td>\n",
              "      <td>1.000000</td>\n",
              "      <td>1307.000000</td>\n",
              "      <td>3.00000</td>\n",
              "      <td>80.000000</td>\n",
              "      <td>8.000000</td>\n",
              "      <td>9.000000</td>\n",
              "      <td>1.000000</td>\n",
              "    </tr>\n",
              "  </tbody>\n",
              "</table>\n",
              "</div>"
            ],
            "text/plain": [
              "       passenger_id     pclass         age  ...    siblings     parents  p_survived\n",
              "count    850.000000  850.00000  850.000000  ...  850.000000  850.000000  850.000000\n",
              "mean     662.816471    2.32000   29.519847  ...    0.522353    0.382353    0.368235\n",
              "std      380.751936    0.83853   12.984533  ...    1.112132    0.879511    0.482610\n",
              "min        1.000000    1.00000    0.166700  ...    0.000000    0.000000    0.000000\n",
              "25%      332.250000    2.00000   22.000000  ...    0.000000    0.000000    0.000000\n",
              "50%      676.500000    3.00000   29.519847  ...    0.000000    0.000000    0.000000\n",
              "75%      992.250000    3.00000   34.875000  ...    1.000000    0.000000    1.000000\n",
              "max     1307.000000    3.00000   80.000000  ...    8.000000    9.000000    1.000000\n",
              "\n",
              "[8 rows x 12 columns]"
            ]
          },
          "metadata": {
            "tags": []
          },
          "execution_count": 90
        }
      ]
    },
    {
      "cell_type": "code",
      "metadata": {
        "colab": {
          "base_uri": "https://localhost:8080/",
          "height": 218
        },
        "id": "TDXGVXQop4Lj",
        "outputId": "9084abac-9c56-41f0-9a4e-b73a3da23f5e"
      },
      "source": [
        "df_copy = pd.get_dummies(data=df_copy, columns=['embarked','p_embarked','sex','gender'])\n",
        "df_copy.head()"
      ],
      "execution_count": 91,
      "outputs": [
        {
          "output_type": "execute_result",
          "data": {
            "text/html": [
              "<div>\n",
              "<style scoped>\n",
              "    .dataframe tbody tr th:only-of-type {\n",
              "        vertical-align: middle;\n",
              "    }\n",
              "\n",
              "    .dataframe tbody tr th {\n",
              "        vertical-align: top;\n",
              "    }\n",
              "\n",
              "    .dataframe thead th {\n",
              "        text-align: right;\n",
              "    }\n",
              "</style>\n",
              "<table border=\"1\" class=\"dataframe\">\n",
              "  <thead>\n",
              "    <tr style=\"text-align: right;\">\n",
              "      <th></th>\n",
              "      <th>passenger_id</th>\n",
              "      <th>pclass</th>\n",
              "      <th>age</th>\n",
              "      <th>sibsp</th>\n",
              "      <th>parch</th>\n",
              "      <th>ticket</th>\n",
              "      <th>survived</th>\n",
              "      <th>id</th>\n",
              "      <th>class</th>\n",
              "      <th>p_age</th>\n",
              "      <th>siblings</th>\n",
              "      <th>parents</th>\n",
              "      <th>p_ticket</th>\n",
              "      <th>p_survived</th>\n",
              "      <th>embarked_C</th>\n",
              "      <th>embarked_Q</th>\n",
              "      <th>embarked_S</th>\n",
              "      <th>p_embarked_C</th>\n",
              "      <th>p_embarked_Q</th>\n",
              "      <th>p_embarked_S</th>\n",
              "      <th>sex_female</th>\n",
              "      <th>sex_male</th>\n",
              "      <th>gender_female</th>\n",
              "      <th>gender_male</th>\n",
              "    </tr>\n",
              "  </thead>\n",
              "  <tbody>\n",
              "    <tr>\n",
              "      <th>0</th>\n",
              "      <td>1216</td>\n",
              "      <td>3</td>\n",
              "      <td>29.519847</td>\n",
              "      <td>0</td>\n",
              "      <td>0</td>\n",
              "      <td>335432</td>\n",
              "      <td>1</td>\n",
              "      <td>1216</td>\n",
              "      <td>3</td>\n",
              "      <td>29.519847</td>\n",
              "      <td>0</td>\n",
              "      <td>0</td>\n",
              "      <td>335432</td>\n",
              "      <td>1</td>\n",
              "      <td>0</td>\n",
              "      <td>1</td>\n",
              "      <td>0</td>\n",
              "      <td>0</td>\n",
              "      <td>1</td>\n",
              "      <td>0</td>\n",
              "      <td>1</td>\n",
              "      <td>0</td>\n",
              "      <td>1</td>\n",
              "      <td>0</td>\n",
              "    </tr>\n",
              "    <tr>\n",
              "      <th>1</th>\n",
              "      <td>699</td>\n",
              "      <td>3</td>\n",
              "      <td>38.000000</td>\n",
              "      <td>0</td>\n",
              "      <td>0</td>\n",
              "      <td>315089</td>\n",
              "      <td>0</td>\n",
              "      <td>699</td>\n",
              "      <td>3</td>\n",
              "      <td>38.000000</td>\n",
              "      <td>0</td>\n",
              "      <td>0</td>\n",
              "      <td>315089</td>\n",
              "      <td>0</td>\n",
              "      <td>0</td>\n",
              "      <td>0</td>\n",
              "      <td>1</td>\n",
              "      <td>0</td>\n",
              "      <td>0</td>\n",
              "      <td>1</td>\n",
              "      <td>0</td>\n",
              "      <td>1</td>\n",
              "      <td>0</td>\n",
              "      <td>1</td>\n",
              "    </tr>\n",
              "    <tr>\n",
              "      <th>2</th>\n",
              "      <td>1267</td>\n",
              "      <td>3</td>\n",
              "      <td>30.000000</td>\n",
              "      <td>1</td>\n",
              "      <td>1</td>\n",
              "      <td>345773</td>\n",
              "      <td>0</td>\n",
              "      <td>1267</td>\n",
              "      <td>3</td>\n",
              "      <td>30.000000</td>\n",
              "      <td>1</td>\n",
              "      <td>1</td>\n",
              "      <td>345773</td>\n",
              "      <td>0</td>\n",
              "      <td>0</td>\n",
              "      <td>0</td>\n",
              "      <td>1</td>\n",
              "      <td>0</td>\n",
              "      <td>0</td>\n",
              "      <td>1</td>\n",
              "      <td>1</td>\n",
              "      <td>0</td>\n",
              "      <td>1</td>\n",
              "      <td>0</td>\n",
              "    </tr>\n",
              "    <tr>\n",
              "      <th>3</th>\n",
              "      <td>449</td>\n",
              "      <td>2</td>\n",
              "      <td>54.000000</td>\n",
              "      <td>1</td>\n",
              "      <td>3</td>\n",
              "      <td>29105</td>\n",
              "      <td>1</td>\n",
              "      <td>449</td>\n",
              "      <td>2</td>\n",
              "      <td>54.000000</td>\n",
              "      <td>1</td>\n",
              "      <td>3</td>\n",
              "      <td>29105</td>\n",
              "      <td>1</td>\n",
              "      <td>0</td>\n",
              "      <td>0</td>\n",
              "      <td>1</td>\n",
              "      <td>0</td>\n",
              "      <td>0</td>\n",
              "      <td>1</td>\n",
              "      <td>1</td>\n",
              "      <td>0</td>\n",
              "      <td>1</td>\n",
              "      <td>0</td>\n",
              "    </tr>\n",
              "    <tr>\n",
              "      <th>4</th>\n",
              "      <td>576</td>\n",
              "      <td>2</td>\n",
              "      <td>40.000000</td>\n",
              "      <td>0</td>\n",
              "      <td>0</td>\n",
              "      <td>28221</td>\n",
              "      <td>0</td>\n",
              "      <td>576</td>\n",
              "      <td>2</td>\n",
              "      <td>40.000000</td>\n",
              "      <td>0</td>\n",
              "      <td>0</td>\n",
              "      <td>28221</td>\n",
              "      <td>0</td>\n",
              "      <td>0</td>\n",
              "      <td>0</td>\n",
              "      <td>1</td>\n",
              "      <td>0</td>\n",
              "      <td>0</td>\n",
              "      <td>1</td>\n",
              "      <td>0</td>\n",
              "      <td>1</td>\n",
              "      <td>0</td>\n",
              "      <td>1</td>\n",
              "    </tr>\n",
              "  </tbody>\n",
              "</table>\n",
              "</div>"
            ],
            "text/plain": [
              "   passenger_id  pclass        age  ...  sex_male  gender_female gender_male\n",
              "0          1216       3  29.519847  ...         0              1           0\n",
              "1           699       3  38.000000  ...         1              0           1\n",
              "2          1267       3  30.000000  ...         0              1           0\n",
              "3           449       2  54.000000  ...         0              1           0\n",
              "4           576       2  40.000000  ...         1              0           1\n",
              "\n",
              "[5 rows x 24 columns]"
            ]
          },
          "metadata": {
            "tags": []
          },
          "execution_count": 91
        }
      ]
    },
    {
      "cell_type": "markdown",
      "metadata": {
        "id": "vCg6lAsXqvj7"
      },
      "source": [
        "# Scikit-Learn"
      ]
    },
    {
      "cell_type": "code",
      "metadata": {
        "colab": {
          "base_uri": "https://localhost:8080/"
        },
        "id": "p-vWnv_8qvUJ",
        "outputId": "fcdd3a40-cbec-4855-b999-778edf67ed5f"
      },
      "source": [
        "# Build pipeline\n",
        "df.dtypes"
      ],
      "execution_count": 92,
      "outputs": [
        {
          "output_type": "execute_result",
          "data": {
            "text/plain": [
              "passenger_id      int64\n",
              "pclass            int64\n",
              "name             object\n",
              "sex              object\n",
              "age             float64\n",
              "sibsp             int64\n",
              "parch             int64\n",
              "ticket           object\n",
              "fare            float64\n",
              "embarked         object\n",
              "survived          int64\n",
              "dtype: object"
            ]
          },
          "metadata": {
            "tags": []
          },
          "execution_count": 92
        }
      ]
    },
    {
      "cell_type": "code",
      "metadata": {
        "colab": {
          "base_uri": "https://localhost:8080/"
        },
        "id": "IayC2barqSH2",
        "outputId": "6126341f-0bab-47e2-e538-12b76825889e"
      },
      "source": [
        "df.drop(['name','ticket'],axis=1, inplace=True)\n",
        "df.isna().sum()"
      ],
      "execution_count": 93,
      "outputs": [
        {
          "output_type": "execute_result",
          "data": {
            "text/plain": [
              "passenger_id      0\n",
              "pclass            0\n",
              "sex               0\n",
              "age             174\n",
              "sibsp             0\n",
              "parch             0\n",
              "fare              1\n",
              "embarked          1\n",
              "survived          0\n",
              "dtype: int64"
            ]
          },
          "metadata": {
            "tags": []
          },
          "execution_count": 93
        }
      ]
    },
    {
      "cell_type": "code",
      "metadata": {
        "id": "Lzk4brVcrNZL"
      },
      "source": [
        "# Pipeline\n",
        "# Cateogries\n",
        "categorical_columns = ['embarked']\n",
        "categorical_transform = Pipeline(steps=[\n",
        "             ('imputer', SimpleImputer(fill_value='S', strategy='constant')),\n",
        "             ('one_hot', OneHotEncoder(handle_unknown='ignore'))\n",
        "])\n",
        "\n",
        "\n",
        "# Average\n",
        "avg_columns = ['fare','age']\n",
        "avg_transform = Pipeline(steps=[\n",
        "                ('imputer', SimpleImputer(strategy='mean'))\n",
        "])\n",
        "\n",
        "# ColumnTransformer\n",
        "column_transform = ColumnTransformer(transformers=[\n",
        "                      ('cat', categorical_transform, categorical_columns),\n",
        "                      ('avg', avg_transform, avg_columns)\n",
        "])\n",
        "\n",
        "\n",
        "# Preprocess\n",
        "model = Pipeline(steps=[\n",
        "         ('preprocess', column_transform),\n",
        "        ('model', LogisticRegression())\n",
        "])\n",
        "\n",
        "# Split & Seed\n",
        "np.random.seed(42)\n",
        "\n",
        "X = df.drop('survived', axis=1)\n",
        "y = df.survived\n",
        "\n",
        "# Split into Train Test\n",
        "X_train, X_test, y_train, y_test = train_test_split(X,y,test_size=0.2)\n",
        "\n",
        "# Fit\n",
        "model.fit(X_train,y_train)\n",
        "\n",
        "# Score\n",
        "model.score(X_test,y_test)"
      ],
      "execution_count": null,
      "outputs": []
    },
    {
      "cell_type": "markdown",
      "metadata": {
        "id": "-C-sgVWlwXt4"
      },
      "source": [
        "# Evaluate the Scores"
      ]
    },
    {
      "cell_type": "code",
      "metadata": {
        "colab": {
          "base_uri": "https://localhost:8080/",
          "height": 265
        },
        "id": "jZfIWYUyvNd4",
        "outputId": "25aa40fc-6a1d-49e8-b973-8ef19c5105ef"
      },
      "source": [
        "y_pred = model.predict(X_test)\n",
        "y_pred_proba = model.predict_proba(X_test)\n",
        "\n",
        "conf_matrix = confusion_matrix(y_test, y_pred)\n",
        "sns.heatmap(conf_matrix,\n",
        "            cmap='YlGnBu',\n",
        "            fmt='.2f',\n",
        "            annot=True);"
      ],
      "execution_count": 94,
      "outputs": [
        {
          "output_type": "display_data",
          "data": {
            "image/png": "[encoded data removed]",
            "text/plain": [
              "<Figure size 432x288 with 2 Axes>"
            ]
          },
          "metadata": {
            "tags": [],
            "needs_background": "light"
          }
        }
      ]
    },
    {
      "cell_type": "code",
      "metadata": {
        "colab": {
          "base_uri": "https://localhost:8080/",
          "height": 86
        },
        "id": "0VvfKp02wCeK",
        "outputId": "9427852f-b7d0-4fa5-f1b5-70495a7dbc7a"
      },
      "source": [
        "# Accuracy and all the rest\n",
        "classification_report(y_test,y_pred)"
      ],
      "execution_count": 95,
      "outputs": [
        {
          "output_type": "execute_result",
          "data": {
            "application/vnd.google.colaboratory.intrinsic+json": {
              "type": "string"
            },
            "text/plain": [
              "'              precision    recall  f1-score   support\\n\\n           0       0.64      0.96      0.77       102\\n           1       0.76      0.19      0.31        68\\n\\n    accuracy                           0.65       170\\n   macro avg       0.70      0.58      0.54       170\\nweighted avg       0.69      0.65      0.58       170\\n'"
            ]
          },
          "metadata": {
            "tags": []
          },
          "execution_count": 95
        }
      ]
    },
    {
      "cell_type": "code",
      "metadata": {
        "colab": {
          "base_uri": "https://localhost:8080/"
        },
        "id": "Kfx-L_gAwvmg",
        "outputId": "720d851d-0df1-4ef4-cb8e-121649e445f2"
      },
      "source": [
        "print(accuracy_score(y_test,y_pred), 'accuracy')\n",
        "print(precision_score(y_test,y_pred), 'precision')\n",
        "print(f1_score(y_test,y_pred), 'f1')\n",
        "print(recall_score(y_test,y_pred), 'recall')"
      ],
      "execution_count": 96,
      "outputs": [
        {
          "output_type": "stream",
          "text": [
            "0.6529411764705882 accuracy\n",
            "0.7647058823529411 precision\n",
            "0.3058823529411765 f1\n",
            "0.19117647058823528 recall\n"
          ],
          "name": "stdout"
        }
      ]
    },
    {
      "cell_type": "code",
      "metadata": {
        "colab": {
          "base_uri": "https://localhost:8080/"
        },
        "id": "03-RPsR4w70i",
        "outputId": "6bdd268c-2773-48a7-b5ed-a39927c33d73"
      },
      "source": [
        "df_copy.isna().sum()"
      ],
      "execution_count": 97,
      "outputs": [
        {
          "output_type": "execute_result",
          "data": {
            "text/plain": [
              "passenger_id     0\n",
              "pclass           0\n",
              "age              0\n",
              "sibsp            0\n",
              "parch            0\n",
              "ticket           0\n",
              "survived         0\n",
              "id               0\n",
              "class            0\n",
              "p_age            0\n",
              "siblings         0\n",
              "parents          0\n",
              "p_ticket         0\n",
              "p_survived       0\n",
              "embarked_C       0\n",
              "embarked_Q       0\n",
              "embarked_S       0\n",
              "p_embarked_C     0\n",
              "p_embarked_Q     0\n",
              "p_embarked_S     0\n",
              "sex_female       0\n",
              "sex_male         0\n",
              "gender_female    0\n",
              "gender_male      0\n",
              "dtype: int64"
            ]
          },
          "metadata": {
            "tags": []
          },
          "execution_count": 97
        }
      ]
    },
    {
      "cell_type": "code",
      "metadata": {
        "colab": {
          "base_uri": "https://localhost:8080/"
        },
        "id": "b8g_kD5IxY6E",
        "outputId": "f62c946a-4375-41a7-8305-ed5b538d48f0"
      },
      "source": [
        "df_copy.dtypes"
      ],
      "execution_count": 100,
      "outputs": [
        {
          "output_type": "execute_result",
          "data": {
            "text/plain": [
              "passenger_id       int64\n",
              "pclass             int64\n",
              "age              float64\n",
              "sibsp              int64\n",
              "parch              int64\n",
              "ticket            object\n",
              "survived           int64\n",
              "id                 int64\n",
              "class              int64\n",
              "p_age            float64\n",
              "siblings           int64\n",
              "parents            int64\n",
              "p_ticket          object\n",
              "p_survived         int64\n",
              "embarked_C         uint8\n",
              "embarked_Q         uint8\n",
              "embarked_S         uint8\n",
              "p_embarked_C       uint8\n",
              "p_embarked_Q       uint8\n",
              "p_embarked_S       uint8\n",
              "sex_female         uint8\n",
              "sex_male           uint8\n",
              "gender_female      uint8\n",
              "gender_male        uint8\n",
              "dtype: object"
            ]
          },
          "metadata": {
            "tags": []
          },
          "execution_count": 100
        }
      ]
    },
    {
      "cell_type": "code",
      "metadata": {
        "colab": {
          "base_uri": "https://localhost:8080/"
        },
        "id": "KZI8-D48yw_O",
        "outputId": "58a235d0-9555-4692-8089-cbd80c06724f"
      },
      "source": [
        "df_rerun = df_copy.drop(['p_survived','p_ticket','ticket'], axis=1)\n",
        "\n",
        "X = df_rerun.drop('survived', axis=1)\n",
        "y = df_rerun.survived\n",
        "\n",
        "\n",
        "cross_val_score(RandomForestClassifier(), X = X, y = y,\n",
        "                cv=5, verbose=2)"
      ],
      "execution_count": 101,
      "outputs": [
        {
          "output_type": "stream",
          "text": [
            "[Parallel(n_jobs=1)]: Using backend SequentialBackend with 1 concurrent workers.\n",
            "[Parallel(n_jobs=1)]: Done   1 out of   1 | elapsed:    0.2s remaining:    0.0s\n"
          ],
          "name": "stderr"
        },
        {
          "output_type": "stream",
          "text": [
            "[CV]  ................................................................\n",
            "[CV] ................................................. , total=   0.2s\n",
            "[CV]  ................................................................\n",
            "[CV] ................................................. , total=   0.2s\n",
            "[CV]  ................................................................\n",
            "[CV] ................................................. , total=   0.2s\n",
            "[CV]  ................................................................\n",
            "[CV] ................................................. , total=   0.2s\n",
            "[CV]  ................................................................\n",
            "[CV] ................................................. , total=   0.2s\n"
          ],
          "name": "stdout"
        },
        {
          "output_type": "stream",
          "text": [
            "[Parallel(n_jobs=1)]: Done   5 out of   5 | elapsed:    1.0s finished\n"
          ],
          "name": "stderr"
        },
        {
          "output_type": "execute_result",
          "data": {
            "text/plain": [
              "array([0.82352941, 0.80588235, 0.79411765, 0.77647059, 0.84117647])"
            ]
          },
          "metadata": {
            "tags": []
          },
          "execution_count": 101
        }
      ]
    },
    {
      "cell_type": "code",
      "metadata": {
        "colab": {
          "base_uri": "https://localhost:8080/"
        },
        "id": "3ecYhjkp0kRT",
        "outputId": "f7fe1c48-31ae-4914-af5a-706168f1a435"
      },
      "source": [
        "KNeighborsClassifier.get_params(KNeighborsClassifier)"
      ],
      "execution_count": 106,
      "outputs": [
        {
          "output_type": "stream",
          "text": [
            "/usr/local/lib/python3.7/dist-packages/sklearn/base.py:197: FutureWarning: From version 0.24, get_params will raise an AttributeError if a parameter cannot be retrieved as an instance attribute. Previously it would return None.\n",
            "  FutureWarning)\n"
          ],
          "name": "stderr"
        },
        {
          "output_type": "execute_result",
          "data": {
            "text/plain": [
              "{'algorithm': None,\n",
              " 'leaf_size': None,\n",
              " 'metric': None,\n",
              " 'metric_params': None,\n",
              " 'n_jobs': None,\n",
              " 'n_neighbors': None,\n",
              " 'p': None,\n",
              " 'weights': None}"
            ]
          },
          "metadata": {
            "tags": []
          },
          "execution_count": 106
        }
      ]
    },
    {
      "cell_type": "code",
      "metadata": {
        "id": "97_Dhwrv0kLG"
      },
      "source": [
        "# Split data again into train and test\n",
        "X_train,X_test,y_train,y_test = train_test_split(X,y,test_size=0.2)\n",
        "\n",
        "# Create the param for RandomizedSearchCV and GridSearchCV\n",
        "knn_params = {\n",
        " 'algorithm': ['auto', 'ball_tree', 'kd_tree', 'brute'],\n",
        " 'leaf_size': [30,60,90],\n",
        " 'weights': ['distance','uniform']\n",
        "}"
      ],
      "execution_count": 111,
      "outputs": []
    },
    {
      "cell_type": "code",
      "metadata": {
        "colab": {
          "base_uri": "https://localhost:8080/"
        },
        "id": "BNayWomqzW90",
        "outputId": "a6283f86-9ac9-4403-8c56-5580c04c9761"
      },
      "source": [
        "rs_knc = RandomizedSearchCV(estimator = KNeighborsClassifier(), \n",
        "                            param_distributions= knn_params, cv=5, n_iter=20,\n",
        "                            verbose=2, random_state=42)\n",
        "rs_knc.fit(X,y)"
      ],
      "execution_count": 115,
      "outputs": [
        {
          "output_type": "stream",
          "text": [
            "Fitting 5 folds for each of 20 candidates, totalling 100 fits\n",
            "[CV] weights=distance, leaf_size=60, algorithm=ball_tree .............\n",
            "[CV]  weights=distance, leaf_size=60, algorithm=ball_tree, total=   0.0s\n",
            "[CV] weights=distance, leaf_size=60, algorithm=ball_tree .............\n",
            "[CV]  weights=distance, leaf_size=60, algorithm=ball_tree, total=   0.0s\n",
            "[CV] weights=distance, leaf_size=60, algorithm=ball_tree .............\n",
            "[CV]  weights=distance, leaf_size=60, algorithm=ball_tree, total=   0.0s\n",
            "[CV] weights=distance, leaf_size=60, algorithm=ball_tree .............\n",
            "[CV]  weights=distance, leaf_size=60, algorithm=ball_tree, total=   0.0s\n",
            "[CV] weights=distance, leaf_size=60, algorithm=ball_tree .............\n",
            "[CV]  weights=distance, leaf_size=60, algorithm=ball_tree, total=   0.0s\n",
            "[CV] weights=distance, leaf_size=90, algorithm=kd_tree ...............\n",
            "[CV]  weights=distance, leaf_size=90, algorithm=kd_tree, total=   0.0s\n",
            "[CV] weights=distance, leaf_size=90, algorithm=kd_tree ...............\n",
            "[CV]  weights=distance, leaf_size=90, algorithm=kd_tree, total=   0.0s\n",
            "[CV] weights=distance, leaf_size=90, algorithm=kd_tree ...............\n",
            "[CV]  weights=distance, leaf_size=90, algorithm=kd_tree, total=   0.0s\n",
            "[CV] weights=distance, leaf_size=90, algorithm=kd_tree ...............\n",
            "[CV]  weights=distance, leaf_size=90, algorithm=kd_tree, total=   0.0s\n",
            "[CV] weights=distance, leaf_size=90, algorithm=kd_tree ...............\n",
            "[CV]  weights=distance, leaf_size=90, algorithm=kd_tree, total=   0.0s\n",
            "[CV] weights=distance, leaf_size=30, algorithm=auto ..................\n",
            "[CV] ... weights=distance, leaf_size=30, algorithm=auto, total=   0.0s\n",
            "[CV] weights=distance, leaf_size=30, algorithm=auto ..................\n",
            "[CV] ... weights=distance, leaf_size=30, algorithm=auto, total=   0.0s\n",
            "[CV] weights=distance, leaf_size=30, algorithm=auto ..................\n",
            "[CV] ... weights=distance, leaf_size=30, algorithm=auto, total=   0.0s\n",
            "[CV] weights=distance, leaf_size=30, algorithm=auto ..................\n",
            "[CV] ... weights=distance, leaf_size=30, algorithm=auto, total=   0.0s\n",
            "[CV] weights=distance, leaf_size=30, algorithm=auto ..................\n",
            "[CV] ... weights=distance, leaf_size=30, algorithm=auto, total=   0.0s\n",
            "[CV] weights=distance, leaf_size=30, algorithm=brute .................\n",
            "[CV] .. weights=distance, leaf_size=30, algorithm=brute, total=   0.0s\n",
            "[CV] weights=distance, leaf_size=30, algorithm=brute .................\n",
            "[CV] .. weights=distance, leaf_size=30, algorithm=brute, total=   0.0s\n",
            "[CV] weights=distance, leaf_size=30, algorithm=brute .................\n",
            "[CV] .. weights=distance, leaf_size=30, algorithm=brute, total=   0.0s\n",
            "[CV] weights=distance, leaf_size=30, algorithm=brute .................\n",
            "[CV] .. weights=distance, leaf_size=30, algorithm=brute, total=   0.0s\n",
            "[CV] weights=distance, leaf_size=30, algorithm=brute .................\n",
            "[CV] .. weights=distance, leaf_size=30, algorithm=brute, total=   0.0s\n",
            "[CV] weights=uniform, leaf_size=90, algorithm=ball_tree ..............\n",
            "[CV]  weights=uniform, leaf_size=90, algorithm=ball_tree, total=   0.0s\n",
            "[CV] weights=uniform, leaf_size=90, algorithm=ball_tree ..............\n",
            "[CV]  weights=uniform, leaf_size=90, algorithm=ball_tree, total=   0.0s\n",
            "[CV] weights=uniform, leaf_size=90, algorithm=ball_tree ..............\n"
          ],
          "name": "stdout"
        },
        {
          "output_type": "stream",
          "text": [
            "[Parallel(n_jobs=1)]: Using backend SequentialBackend with 1 concurrent workers.\n",
            "[Parallel(n_jobs=1)]: Done   1 out of   1 | elapsed:    0.0s remaining:    0.0s\n"
          ],
          "name": "stderr"
        },
        {
          "output_type": "stream",
          "text": [
            "[CV]  weights=uniform, leaf_size=90, algorithm=ball_tree, total=   0.0s\n",
            "[CV] weights=uniform, leaf_size=90, algorithm=ball_tree ..............\n",
            "[CV]  weights=uniform, leaf_size=90, algorithm=ball_tree, total=   0.0s\n",
            "[CV] weights=uniform, leaf_size=90, algorithm=ball_tree ..............\n",
            "[CV]  weights=uniform, leaf_size=90, algorithm=ball_tree, total=   0.0s\n",
            "[CV] weights=uniform, leaf_size=60, algorithm=ball_tree ..............\n",
            "[CV]  weights=uniform, leaf_size=60, algorithm=ball_tree, total=   0.0s\n",
            "[CV] weights=uniform, leaf_size=60, algorithm=ball_tree ..............\n",
            "[CV]  weights=uniform, leaf_size=60, algorithm=ball_tree, total=   0.0s\n",
            "[CV] weights=uniform, leaf_size=60, algorithm=ball_tree ..............\n",
            "[CV]  weights=uniform, leaf_size=60, algorithm=ball_tree, total=   0.0s\n",
            "[CV] weights=uniform, leaf_size=60, algorithm=ball_tree ..............\n",
            "[CV]  weights=uniform, leaf_size=60, algorithm=ball_tree, total=   0.0s\n",
            "[CV] weights=uniform, leaf_size=60, algorithm=ball_tree ..............\n",
            "[CV]  weights=uniform, leaf_size=60, algorithm=ball_tree, total=   0.0s\n",
            "[CV] weights=uniform, leaf_size=30, algorithm=kd_tree ................\n",
            "[CV] . weights=uniform, leaf_size=30, algorithm=kd_tree, total=   0.0s\n",
            "[CV] weights=uniform, leaf_size=30, algorithm=kd_tree ................\n",
            "[CV] . weights=uniform, leaf_size=30, algorithm=kd_tree, total=   0.0s\n",
            "[CV] weights=uniform, leaf_size=30, algorithm=kd_tree ................\n",
            "[CV] . weights=uniform, leaf_size=30, algorithm=kd_tree, total=   0.0s\n",
            "[CV] weights=uniform, leaf_size=30, algorithm=kd_tree ................\n",
            "[CV] . weights=uniform, leaf_size=30, algorithm=kd_tree, total=   0.0s\n",
            "[CV] weights=uniform, leaf_size=30, algorithm=kd_tree ................\n",
            "[CV] . weights=uniform, leaf_size=30, algorithm=kd_tree, total=   0.0s\n",
            "[CV] weights=uniform, leaf_size=30, algorithm=auto ...................\n",
            "[CV] .... weights=uniform, leaf_size=30, algorithm=auto, total=   0.0s\n",
            "[CV] weights=uniform, leaf_size=30, algorithm=auto ...................\n",
            "[CV] .... weights=uniform, leaf_size=30, algorithm=auto, total=   0.0s\n",
            "[CV] weights=uniform, leaf_size=30, algorithm=auto ...................\n",
            "[CV] .... weights=uniform, leaf_size=30, algorithm=auto, total=   0.0s\n",
            "[CV] weights=uniform, leaf_size=30, algorithm=auto ...................\n",
            "[CV] .... weights=uniform, leaf_size=30, algorithm=auto, total=   0.0s\n",
            "[CV] weights=uniform, leaf_size=30, algorithm=auto ...................\n",
            "[CV] .... weights=uniform, leaf_size=30, algorithm=auto, total=   0.0s\n",
            "[CV] weights=uniform, leaf_size=60, algorithm=brute ..................\n",
            "[CV] ... weights=uniform, leaf_size=60, algorithm=brute, total=   0.0s\n",
            "[CV] weights=uniform, leaf_size=60, algorithm=brute ..................\n",
            "[CV] ... weights=uniform, leaf_size=60, algorithm=brute, total=   0.0s\n",
            "[CV] weights=uniform, leaf_size=60, algorithm=brute ..................\n",
            "[CV] ... weights=uniform, leaf_size=60, algorithm=brute, total=   0.0s\n",
            "[CV] weights=uniform, leaf_size=60, algorithm=brute ..................\n",
            "[CV] ... weights=uniform, leaf_size=60, algorithm=brute, total=   0.0s\n",
            "[CV] weights=uniform, leaf_size=60, algorithm=brute ..................\n",
            "[CV] ... weights=uniform, leaf_size=60, algorithm=brute, total=   0.0s\n",
            "[CV] weights=uniform, leaf_size=90, algorithm=auto ...................\n",
            "[CV] .... weights=uniform, leaf_size=90, algorithm=auto, total=   0.0s\n",
            "[CV] weights=uniform, leaf_size=90, algorithm=auto ...................\n",
            "[CV] .... weights=uniform, leaf_size=90, algorithm=auto, total=   0.0s\n",
            "[CV] weights=uniform, leaf_size=90, algorithm=auto ...................\n",
            "[CV] .... weights=uniform, leaf_size=90, algorithm=auto, total=   0.0s\n",
            "[CV] weights=uniform, leaf_size=90, algorithm=auto ...................\n",
            "[CV] .... weights=uniform, leaf_size=90, algorithm=auto, total=   0.0s\n",
            "[CV] weights=uniform, leaf_size=90, algorithm=auto ...................\n",
            "[CV] .... weights=uniform, leaf_size=90, algorithm=auto, total=   0.0s\n",
            "[CV] weights=distance, leaf_size=60, algorithm=auto ..................\n",
            "[CV] ... weights=distance, leaf_size=60, algorithm=auto, total=   0.0s\n",
            "[CV] weights=distance, leaf_size=60, algorithm=auto ..................\n",
            "[CV] ... weights=distance, leaf_size=60, algorithm=auto, total=   0.0s\n",
            "[CV] weights=distance, leaf_size=60, algorithm=auto ..................\n",
            "[CV] ... weights=distance, leaf_size=60, algorithm=auto, total=   0.0s\n",
            "[CV] weights=distance, leaf_size=60, algorithm=auto ..................\n",
            "[CV] ... weights=distance, leaf_size=60, algorithm=auto, total=   0.0s\n",
            "[CV] weights=distance, leaf_size=60, algorithm=auto ..................\n",
            "[CV] ... weights=distance, leaf_size=60, algorithm=auto, total=   0.0s\n",
            "[CV] weights=distance, leaf_size=30, algorithm=kd_tree ...............\n",
            "[CV]  weights=distance, leaf_size=30, algorithm=kd_tree, total=   0.0s\n",
            "[CV] weights=distance, leaf_size=30, algorithm=kd_tree ...............\n",
            "[CV]  weights=distance, leaf_size=30, algorithm=kd_tree, total=   0.0s\n",
            "[CV] weights=distance, leaf_size=30, algorithm=kd_tree ...............\n",
            "[CV]  weights=distance, leaf_size=30, algorithm=kd_tree, total=   0.0s\n",
            "[CV] weights=distance, leaf_size=30, algorithm=kd_tree ...............\n",
            "[CV]  weights=distance, leaf_size=30, algorithm=kd_tree, total=   0.0s\n",
            "[CV] weights=distance, leaf_size=30, algorithm=kd_tree ...............\n",
            "[CV]  weights=distance, leaf_size=30, algorithm=kd_tree, total=   0.0s\n",
            "[CV] weights=uniform, leaf_size=60, algorithm=kd_tree ................\n",
            "[CV] . weights=uniform, leaf_size=60, algorithm=kd_tree, total=   0.0s\n",
            "[CV] weights=uniform, leaf_size=60, algorithm=kd_tree ................\n",
            "[CV] . weights=uniform, leaf_size=60, algorithm=kd_tree, total=   0.0s\n",
            "[CV] weights=uniform, leaf_size=60, algorithm=kd_tree ................\n",
            "[CV] . weights=uniform, leaf_size=60, algorithm=kd_tree, total=   0.0s\n",
            "[CV] weights=uniform, leaf_size=60, algorithm=kd_tree ................\n",
            "[CV] . weights=uniform, leaf_size=60, algorithm=kd_tree, total=   0.0s\n",
            "[CV] weights=uniform, leaf_size=60, algorithm=kd_tree ................\n",
            "[CV] . weights=uniform, leaf_size=60, algorithm=kd_tree, total=   0.0s\n",
            "[CV] weights=uniform, leaf_size=60, algorithm=auto ...................\n",
            "[CV] .... weights=uniform, leaf_size=60, algorithm=auto, total=   0.0s\n",
            "[CV] weights=uniform, leaf_size=60, algorithm=auto ...................\n",
            "[CV] .... weights=uniform, leaf_size=60, algorithm=auto, total=   0.0s\n",
            "[CV] weights=uniform, leaf_size=60, algorithm=auto ...................\n",
            "[CV] .... weights=uniform, leaf_size=60, algorithm=auto, total=   0.0s\n",
            "[CV] weights=uniform, leaf_size=60, algorithm=auto ...................\n",
            "[CV] .... weights=uniform, leaf_size=60, algorithm=auto, total=   0.0s\n",
            "[CV] weights=uniform, leaf_size=60, algorithm=auto ...................\n",
            "[CV] .... weights=uniform, leaf_size=60, algorithm=auto, total=   0.0s\n",
            "[CV] weights=distance, leaf_size=90, algorithm=auto ..................\n",
            "[CV] ... weights=distance, leaf_size=90, algorithm=auto, total=   0.0s\n",
            "[CV] weights=distance, leaf_size=90, algorithm=auto ..................\n",
            "[CV] ... weights=distance, leaf_size=90, algorithm=auto, total=   0.0s\n",
            "[CV] weights=distance, leaf_size=90, algorithm=auto ..................\n",
            "[CV] ... weights=distance, leaf_size=90, algorithm=auto, total=   0.0s\n",
            "[CV] weights=distance, leaf_size=90, algorithm=auto ..................\n",
            "[CV] ... weights=distance, leaf_size=90, algorithm=auto, total=   0.0s\n",
            "[CV] weights=distance, leaf_size=90, algorithm=auto ..................\n",
            "[CV] ... weights=distance, leaf_size=90, algorithm=auto, total=   0.0s\n",
            "[CV] weights=distance, leaf_size=90, algorithm=brute .................\n",
            "[CV] .. weights=distance, leaf_size=90, algorithm=brute, total=   0.0s\n",
            "[CV] weights=distance, leaf_size=90, algorithm=brute .................\n",
            "[CV] .. weights=distance, leaf_size=90, algorithm=brute, total=   0.0s\n",
            "[CV] weights=distance, leaf_size=90, algorithm=brute .................\n",
            "[CV] .. weights=distance, leaf_size=90, algorithm=brute, total=   0.0s\n",
            "[CV] weights=distance, leaf_size=90, algorithm=brute .................\n",
            "[CV] .. weights=distance, leaf_size=90, algorithm=brute, total=   0.0s\n",
            "[CV] weights=distance, leaf_size=90, algorithm=brute .................\n",
            "[CV] .. weights=distance, leaf_size=90, algorithm=brute, total=   0.0s\n",
            "[CV] weights=uniform, leaf_size=90, algorithm=kd_tree ................\n",
            "[CV] . weights=uniform, leaf_size=90, algorithm=kd_tree, total=   0.0s\n",
            "[CV] weights=uniform, leaf_size=90, algorithm=kd_tree ................\n",
            "[CV] . weights=uniform, leaf_size=90, algorithm=kd_tree, total=   0.0s\n",
            "[CV] weights=uniform, leaf_size=90, algorithm=kd_tree ................\n",
            "[CV] . weights=uniform, leaf_size=90, algorithm=kd_tree, total=   0.0s\n",
            "[CV] weights=uniform, leaf_size=90, algorithm=kd_tree ................\n",
            "[CV] . weights=uniform, leaf_size=90, algorithm=kd_tree, total=   0.0s\n",
            "[CV] weights=uniform, leaf_size=90, algorithm=kd_tree ................\n",
            "[CV] . weights=uniform, leaf_size=90, algorithm=kd_tree, total=   0.0s\n",
            "[CV] weights=distance, leaf_size=60, algorithm=brute .................\n",
            "[CV] .. weights=distance, leaf_size=60, algorithm=brute, total=   0.0s\n",
            "[CV] weights=distance, leaf_size=60, algorithm=brute .................\n",
            "[CV] .. weights=distance, leaf_size=60, algorithm=brute, total=   0.0s\n",
            "[CV] weights=distance, leaf_size=60, algorithm=brute .................\n",
            "[CV] .. weights=distance, leaf_size=60, algorithm=brute, total=   0.0s\n",
            "[CV] weights=distance, leaf_size=60, algorithm=brute .................\n",
            "[CV] .. weights=distance, leaf_size=60, algorithm=brute, total=   0.0s\n",
            "[CV] weights=distance, leaf_size=60, algorithm=brute .................\n",
            "[CV] .. weights=distance, leaf_size=60, algorithm=brute, total=   0.0s\n",
            "[CV] weights=uniform, leaf_size=90, algorithm=brute ..................\n",
            "[CV] ... weights=uniform, leaf_size=90, algorithm=brute, total=   0.0s\n",
            "[CV] weights=uniform, leaf_size=90, algorithm=brute ..................\n",
            "[CV] ... weights=uniform, leaf_size=90, algorithm=brute, total=   0.0s\n",
            "[CV] weights=uniform, leaf_size=90, algorithm=brute ..................\n",
            "[CV] ... weights=uniform, leaf_size=90, algorithm=brute, total=   0.0s\n",
            "[CV] weights=uniform, leaf_size=90, algorithm=brute ..................\n",
            "[CV] ... weights=uniform, leaf_size=90, algorithm=brute, total=   0.0s\n",
            "[CV] weights=uniform, leaf_size=90, algorithm=brute ..................\n",
            "[CV] ... weights=uniform, leaf_size=90, algorithm=brute, total=   0.0s\n",
            "[CV] weights=uniform, leaf_size=30, algorithm=ball_tree ..............\n",
            "[CV]  weights=uniform, leaf_size=30, algorithm=ball_tree, total=   0.0s\n",
            "[CV] weights=uniform, leaf_size=30, algorithm=ball_tree ..............\n",
            "[CV]  weights=uniform, leaf_size=30, algorithm=ball_tree, total=   0.0s\n",
            "[CV] weights=uniform, leaf_size=30, algorithm=ball_tree ..............\n",
            "[CV]  weights=uniform, leaf_size=30, algorithm=ball_tree, total=   0.0s\n",
            "[CV] weights=uniform, leaf_size=30, algorithm=ball_tree ..............\n",
            "[CV]  weights=uniform, leaf_size=30, algorithm=ball_tree, total=   0.0s\n",
            "[CV] weights=uniform, leaf_size=30, algorithm=ball_tree ..............\n",
            "[CV]  weights=uniform, leaf_size=30, algorithm=ball_tree, total=   0.0s\n"
          ],
          "name": "stdout"
        },
        {
          "output_type": "stream",
          "text": [
            "[Parallel(n_jobs=1)]: Done 100 out of 100 | elapsed:    1.3s finished\n"
          ],
          "name": "stderr"
        },
        {
          "output_type": "execute_result",
          "data": {
            "text/plain": [
              "{'algorithm': 'ball_tree', 'leaf_size': 60, 'weights': 'distance'}"
            ]
          },
          "metadata": {
            "tags": []
          },
          "execution_count": 115
        }
      ]
    },
    {
      "cell_type": "code",
      "metadata": {
        "colab": {
          "base_uri": "https://localhost:8080/"
        },
        "id": "fEZFM1cM4DeD",
        "outputId": "7cc5d828-806e-4853-c69d-f6f2c1474052"
      },
      "source": [
        "print(rs_knc.best_params_)\n",
        "print(rs_knc.best_score_)"
      ],
      "execution_count": 118,
      "outputs": [
        {
          "output_type": "stream",
          "text": [
            "{'weights': 'distance', 'leaf_size': 60, 'algorithm': 'ball_tree'}\n",
            "0.6776470588235294\n"
          ],
          "name": "stdout"
        }
      ]
    },
    {
      "cell_type": "code",
      "metadata": {
        "id": "k5y1cuw55jZf"
      },
      "source": [
        ""
      ],
      "execution_count": null,
      "outputs": []
    }
  ]
}